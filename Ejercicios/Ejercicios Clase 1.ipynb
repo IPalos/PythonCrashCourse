{
 "cells": [
  {
   "cell_type": "markdown",
   "metadata": {},
   "source": [
    "## Cómo Checar si python está instalado"
   ]
  },
  {
   "cell_type": "markdown",
   "metadata": {},
   "source": [
    "_Windows, Mac y Linux_\n",
    "\n",
    "\n",
    "`python3 --version` para python 3.X y `python --version` para python 2.X\n"
   ]
  },
  {
   "cell_type": "markdown",
   "metadata": {},
   "source": [
    "## En caso de no tenerlo instalado\n",
    "Windows\n",
    ": descargar el ejecutable de aqui https://www.python.org/downloads/release/python-380/\n",
    "\n",
    "Mac\n",
    ": descargar la versión de Mac de aqui https://www.python.org/downloads/release/python-380/\n",
    "\n",
    "Linux\n",
    ": **Ubuntu/ Debian** \n",
    "```\n",
    "sudo apt-get update\n",
    "sudo apt-get install python3.6\n",
    "```\n",
    "\n",
    ":**Fedora**\n",
    "```\n",
    "sudo dnf install python3\n",
    "```"
   ]
  },
  {
   "cell_type": "markdown",
   "metadata": {},
   "source": [
    "## Como correr Python desde terminal\n"
   ]
  },
  {
   "cell_type": "markdown",
   "metadata": {},
   "source": [
    "_Windows, Mac y Linux_\n",
    "\n",
    "`python3` para ejecutar python 3.X\n",
    "\n",
    "`python` para ejecutar python 2.X\n",
    "\n",
    "en caso de querer abrir un archivo *.py se utiliza\n",
    "\n",
    "`python3 /directorio/y/nombre/del/archivo.py`\n",
    "\n",
    "y empecemos com el inicio....\n",
    "\n",
    "`print('Hello World)`"
   ]
  },
  {
   "cell_type": "markdown",
   "metadata": {},
   "source": [
    "## Primer script\n",
    "\n",
    "- crear un archivo, preferentemente llamado 'MyFirstScript.py' o algo así, dentro del directorio de trabajo\n",
    "- que contenga `nombre = Input(\"Ingresa tu nombre\") \\n print('Hola ',nombre) `"
   ]
  },
  {
   "cell_type": "markdown",
   "metadata": {},
   "source": [
    "## Estructuras de datos primitivas \n",
    "\n",
    "\n",
    "| **Tipo de dato** | **Descripción** |\n",
    "| ----------- | ----------- |\n",
    "|**int**  | numeros enteros |\n",
    "| **float** | decimales |\n",
    "| **str** | strings | \n",
    "| **bool** | booleanos | \n",
    "|**None** | tipo especial que indica flata de valor |"
   ]
  },
  {
   "cell_type": "markdown",
   "metadata": {},
   "source": [
    "## Ejercicios\n",
    "- suma (int,int) \n",
    "- suma (int,float) ¿Que tipo es el resultado?\n",
    "- division (int / int) ¿que tipo es el resultado?\n",
    "- division (int // int) ¿Que tipo es el resultado?\n",
    "- concatenación (string,string) !Considerar espacios¡\n",
    "- copias multiples de una palabra (string * int) ¿Es conmutativo?\n",
    "- comparaciones <, >, ==, >=, <= ¿Funcionan con strings también? \n",
    "- tablas de verdad AND, OR, XOR, NOT\n",
    "- bool(1)?, bool(10), bool(0)?, bool('')?\n",
    "\n",
    "\n"
   ]
  }
 ],
 "metadata": {
  "kernelspec": {
   "display_name": "Python 3",
   "language": "python",
   "name": "python3"
  },
  "language_info": {
   "codemirror_mode": {
    "name": "ipython",
    "version": 3
   },
   "file_extension": ".py",
   "mimetype": "text/x-python",
   "name": "python",
   "nbconvert_exporter": "python",
   "pygments_lexer": "ipython3",
   "version": "3.7.4"
  }
 },
 "nbformat": 4,
 "nbformat_minor": 2
}
