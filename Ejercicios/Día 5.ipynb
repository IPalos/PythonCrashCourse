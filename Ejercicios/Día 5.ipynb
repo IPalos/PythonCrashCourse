{
 "cells": [
  {
   "cell_type": "markdown",
   "metadata": {},
   "source": [
    "## Ejercicios"
   ]
  },
  {
   "cell_type": "markdown",
   "metadata": {},
   "source": [
    "### Código de barras válido?\n",
    "\n",
    "**Input:** Un entero de 10 digitos\n",
    "\n",
    "**Output:** indicar de que país es el código ( el primer dígito lo indica)\n",
    " - 0 -> UK\n",
    " - 1 -> US\n",
    " - 2 -> France\n",
    " - 3 -> Germany\n",
    " - 4 -> Japan\n",
    " - 5 -> Russia\n",
    " \n",
    " También indicar si el código funciona o no ( funciona si la suma de sus digitos es múltiplo de 11) \n",
    " \n",
    " ejemplos:\n",
    " -\t0330284987 -> (UK, si funciona)\n",
    " -  1581820089 -> (US, no funciona)\n",
    " -  2226052572 -> (France, si funciona)\n",
    " -  3796519008 -> (Germany, no funciona)\n",
    "    "
   ]
  },
  {
   "cell_type": "markdown",
   "metadata": {},
   "source": [
    "### Meses donde puedes comer mariscos\n",
    "\n",
    "**Input:** Una lista de los meses del año\n",
    "\n",
    "**Output:** Dos listas, una con aquellos meses que contengan **r** en su nombre\n",
    "\n",
    "#### Ejemplo\n",
    "\n",
    "**Input:** words=[\"Enero\", \"Febrero\", \"Marzo\", \"Abril\", \"Mayo\", \"Junio\", \"Julio\", \"Agosto\", \"Septiembre\", \"Octubre\", \"Noviembre\", \"Diciembre\"]\n",
    "\n",
    "**Output:** \n",
    "\n",
    "- monthswithR=[\"Enero\", \"Febrero\", \"Marzo\", \"Abril\", \"Septiembre\", \"Octubre\", \"Noviembre\", \"Diciembre\"]\n",
    "- monthsWithoutR=[\"Mayo\", \"Junio\", \"Julio\", \"Agosto\"]\n"
   ]
  },
  {
   "cell_type": "markdown",
   "metadata": {},
   "source": [
    "### El tablero de ajedrez\n",
    "\n",
    "**Input** Nada\n",
    "\n",
    "**Output** Una lista con 8 listas adentro, con 8 elementos cada lista, que se vea algo como:\n",
    "\n",
    "\n",
    "chess=[[0,1,0,1,0,1,0,1],\n",
    "\n",
    "[1,0,1,0,1,0,1,0],\n",
    "\n",
    "[0,1,0,1,0,1,0,1],\n",
    "\n",
    "[1,0,1,0,1,0,1,0],\n",
    "\n",
    "[0,1,0,1,0,1,0,1],\n",
    "\n",
    "[1,0,1,0,1,0,1,0],\n",
    "\n",
    "[0,1,0,1,0,1,0,1],\n",
    "\n",
    "[1,0,1,0,1,0,1,0]]"
   ]
  },
  {
   "cell_type": "markdown",
   "metadata": {},
   "source": []
  }
 ],
 "metadata": {
  "kernelspec": {
   "display_name": "Python 3",
   "language": "python",
   "name": "python3"
  },
  "language_info": {
   "codemirror_mode": {
    "name": "ipython",
    "version": 3
   },
   "file_extension": ".py",
   "mimetype": "text/x-python",
   "name": "python",
   "nbconvert_exporter": "python",
   "pygments_lexer": "ipython3",
   "version": "3.7.4"
  }
 },
 "nbformat": 4,
 "nbformat_minor": 2
}
