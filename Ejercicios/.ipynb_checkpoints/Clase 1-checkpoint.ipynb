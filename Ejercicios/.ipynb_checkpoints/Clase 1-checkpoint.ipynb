{
 "cells": [
  {
   "cell_type": "markdown",
   "metadata": {},
   "source": [
    "# Presentación Semana 1"
   ]
  },
  {
   "cell_type": "code",
   "execution_count": 3,
   "metadata": {},
   "outputs": [
    {
     "data": {
      "text/html": [
       "\n",
       "        <iframe\n",
       "            width=\"960\"\n",
       "            height=\"595\"\n",
       "            src=\"https://docs.google.com/presentation/d/e/2PACX-1vQ9pdkXAwIBrlNXCH5IoYMsTuPUEqhZPBGccxYv-b0Q7JoPdEPwM0PaXJh8EchA3hPSQZ6kJoKYTWsh/embed?start=false&loop=false&delayms=60000\"\n",
       "            frameborder=\"0\"\n",
       "            allowfullscreen\n",
       "        ></iframe>\n",
       "        "
      ],
      "text/plain": [
       "<IPython.lib.display.IFrame at 0x10ca3c290>"
      ]
     },
     "execution_count": 3,
     "metadata": {},
     "output_type": "execute_result"
    }
   ],
   "source": [
    "from IPython.display import IFrame as frame\n",
    "frame(\"https://docs.google.com/presentation/d/e/2PACX-1vQ9pdkXAwIBrlNXCH5IoYMsTuPUEqhZPBGccxYv-b0Q7JoPdEPwM0PaXJh8EchA3hPSQZ6kJoKYTWsh/embed?start=false&loop=false&delayms=60000\",960,595)"
   ]
  },
  {
   "cell_type": "markdown",
   "metadata": {},
   "source": [
    "## Cómo Checar si python está instalado"
   ]
  },
  {
   "cell_type": "markdown",
   "metadata": {},
   "source": [
    "_Windows, Mac y Linux_\n",
    "\n",
    "\n",
    "`python3 --version` para python 3.X y `python --version` para python 2.X\n"
   ]
  },
  {
   "cell_type": "markdown",
   "metadata": {},
   "source": [
    "## En caso de no tenerlo instalado\n",
    "Windows\n",
    ": descargar el ejecutable de aqui https://www.python.org/downloads/release/python-380/\n",
    "\n",
    "Mac\n",
    ": descargar la versión de Mac de aqui https://www.python.org/downloads/release/python-380/\n",
    "\n",
    "Linux\n",
    ": **Ubuntu/ Debian** \n",
    "```\n",
    "sudo apt-get update\n",
    "sudo apt-get install python3.6\n",
    "```\n",
    "\n",
    ":**Fedora**\n",
    "```\n",
    "sudo dnf install python3\n",
    "```"
   ]
  },
  {
   "cell_type": "markdown",
   "metadata": {},
   "source": [
    "## Como correr Python desde terminal\n"
   ]
  },
  {
   "cell_type": "markdown",
   "metadata": {},
   "source": [
    "_Windows, Mac y Linux_\n",
    "\n",
    "`python3` para ejecutar python 3.X\n",
    "\n",
    "`python` para ejecutar python 2.X\n",
    "\n",
    "en caso de querer abrir un archivo *.py se utiliza\n",
    "\n",
    "`python3 /directorio/y/nombre/del/archivo.py`\n",
    "\n",
    "y empecemos com el inicio....\n",
    "\n",
    "`print('Hello World)`"
   ]
  },
  {
   "cell_type": "markdown",
   "metadata": {},
   "source": [
    "## Primer script\n",
    "\n",
    "- crear un archivo, preferentemente llamado 'MyFirstScript.py' o algo así, dentro del directorio de trabajo\n",
    "- que contenga `nombre = Input(\"Ingresa tu nombre\") \\n print('Hola ',nombre) `"
   ]
  },
  {
   "cell_type": "markdown",
   "metadata": {},
   "source": [
    "## Estructuras de datos primitivas \n",
    "\n",
    "\n",
    "| **Tipo de dato** | **Descripción** |\n",
    "| ----------- | ----------- |\n",
    "|**int**  | numeros enteros |\n",
    "| **float** | decimales |\n",
    "| **str** | strings | \n",
    "| **bool** | booleanos | \n",
    "|**None** | tipo especial que indica flata de valor |"
   ]
  },
  {
   "cell_type": "markdown",
   "metadata": {},
   "source": [
    "## Ejercicios\n",
    "- **Ingresar las siguientes operaciones en la terminal y predecir qué resultados van a salir**\n",
    "- 3+5\n",
    "- type (3 + 5)\n",
    "- 3 + 5.0\n",
    "- type (3 + 5.0 ) \n",
    "- 5 / 3\n",
    "- 5//3\n",
    "- type(5/3)\n",
    "- type(5//3)\n",
    "- \"hello\"+ \"world\"\n",
    "- \"hello\" + \" world\"\n",
    "- 3 + \"5\"\n",
    "- \"hello\"[0]\n",
    "- \"hello\"*5\n",
    "\n",
    "\n"
   ]
  },
  {
   "cell_type": "code",
   "execution_count": null,
   "metadata": {},
   "outputs": [],
   "source": []
  }
 ],
 "metadata": {
  "kernelspec": {
   "display_name": "Python 3",
   "language": "python",
   "name": "python3"
  },
  "language_info": {
   "codemirror_mode": {
    "name": "ipython",
    "version": 3
   },
   "file_extension": ".py",
   "mimetype": "text/x-python",
   "name": "python",
   "nbconvert_exporter": "python",
   "pygments_lexer": "ipython3",
   "version": "3.7.4"
  }
 },
 "nbformat": 4,
 "nbformat_minor": 2
}
