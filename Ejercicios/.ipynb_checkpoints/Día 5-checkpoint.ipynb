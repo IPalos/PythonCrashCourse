{
 "cells": [
  {
   "cell_type": "markdown",
   "metadata": {},
   "source": [
    "## Ejercicios"
   ]
  },
  {
   "cell_type": "markdown",
   "metadata": {},
   "source": [
    "### Código de barras válido?\n",
    "\n",
    "**Input:** Un entero de 10 digitos\n",
    "\n",
    "**Output:** indicar de que país es el código ( el primer dígito lo indica)\n",
    " - 0 -> UK\n",
    " - 1 -> US\n",
    " - 2 -> France\n",
    " - 3 -> Germany\n",
    " - 4 -> Japan\n",
    " - 5 -> Russia\n",
    " \n",
    " También indicar si el código funciona o no ( funciona si la suma de sus digitos es múltiplo de 11) \n",
    " \n",
    " ejemplos:\n",
    " -\t0330284987 -> (UK, si funciona)\n",
    " -  1581820089 -> (US, no funciona)\n",
    " -  2226052572 -> (France, si funciona)\n",
    " -  3796519008 -> (Germany, no funciona)\n",
    "    "
   ]
  },
  {
   "cell_type": "markdown",
   "metadata": {},
   "source": [
    "### Palabras que contengan \"O\"\n",
    "\n",
    "**Input:** Una lista de palabras\n",
    "\n",
    "**Output:** Dos listas, una de ellas que tenga todas las palabras de *Input* que contengan la letra \"o\", y la otra con el resto de las palabras\n",
    "\n",
    "#### Ejemplo\n",
    "\n",
    "**Input:** words=[\"lunes\", \"martes\", \"miercoles\", \"jueves\", \"viernes\", \"sabado\", \"domingo\"]\n",
    "\n",
    "**Output:** \n",
    "\n",
    "- wordsWithO=[\"miercoles\", \"sabado\", \"domingo\"]\n",
    "- wordsWithoutO=[\"lunes\", \"martes\", \"jueves\", \"viernes\"]\n"
   ]
  },
  {
   "cell_type": "code",
   "execution_count": null,
   "metadata": {},
   "outputs": [],
   "source": []
  }
 ],
 "metadata": {
  "kernelspec": {
   "display_name": "Python 3",
   "language": "python",
   "name": "python3"
  },
  "language_info": {
   "codemirror_mode": {
    "name": "ipython",
    "version": 3
   },
   "file_extension": ".py",
   "mimetype": "text/x-python",
   "name": "python",
   "nbconvert_exporter": "python",
   "pygments_lexer": "ipython3",
   "version": "3.7.4"
  }
 },
 "nbformat": 4,
 "nbformat_minor": 2
}
