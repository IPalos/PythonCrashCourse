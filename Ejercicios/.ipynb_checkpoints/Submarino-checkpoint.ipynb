{
 "cells": [
  {
   "cell_type": "markdown",
   "metadata": {},
   "source": [
    "# COMO CONSTRUIR EL JUEGO DE SUBMNARINO!\n",
    "\n",
    "La idea de este ejercicio es que utilicen todos los conocimientos hasta el momento, desde la creación y modificación de clases, de matrices, funciones, y la utilización adecuada de variables\n",
    "\n",
    "En resumen:\n",
    "1. Hay que crear una clase `Tablero`, que imprima una matriz `n*n` de manera bonita, donde:\n",
    " - imprima ■ donde el usuario aun no haya interactuado\n",
    " - imprima ¤ donde le haya pegado al submarino enemigo\n",
    " - imprima x donde el usuario haya aventado un misil, pero no le haya pegado a nada\n",
    " - crea los submarinos ( una lista, o matriz, que guarde la posición) \n",
    " - almacene el número de misiles que tiene el jugador\n",
    "3. Hay que capturar el input del usuario de la forma ({numero},{numero}) ( ej. (0,2), (3,1) , etc) y registrar el golpe"
   ]
  },
  {
   "cell_type": "code",
   "execution_count": 4,
   "metadata": {},
   "outputs": [
    {
     "name": "stdout",
     "output_type": "stream",
     "text": [
      "9632\n",
      "164\n"
     ]
    }
   ],
   "source": [
    "print(ord(\"■\"))\n",
    "print(ord(\"¤\"))"
   ]
  },
  {
   "cell_type": "code",
   "execution_count": 128,
   "metadata": {
    "scrolled": true
   },
   "outputs": [
    {
     "name": "stdout",
     "output_type": "stream",
     "text": [
      "■ ■ ■ ■ ■ \n",
      "■ ■ ■ ■ ■ \n",
      "■ ■ ■ ■ ■ \n",
      "■ ■ ■ ■ ■ \n",
      "■ ■ ■ ■ ■ \n",
      "\n",
      "\n",
      "\n",
      "¡ ¡ ¡ ¡ ¡ ¡ ¡ ¡ ¡ ¡ \n"
     ]
    }
   ],
   "source": [
    "import random\n",
    "\n",
    "class Submarine:                         #clase\n",
    "    def __init__(self):                 # metodo constructor\n",
    "        self.tablero=[]\n",
    "        self.misiles=0\n",
    "        self.submarines=[]\n",
    "        self.over=False\n",
    "    \n",
    "    \n",
    "    \n",
    "    def setBoard(self,size):         #método dentro de una clase\n",
    "        matrix=[]\n",
    "        for i in range(size):\n",
    "            c=[]\n",
    "            for j in range(size):\n",
    "                c.append(0) \n",
    "            matrix.append(c)\n",
    "        self.tablero=matrix\n",
    "        \n",
    "        \n",
    "\n",
    "    def setMissiles(self,misiles):      #le da al jugador este número de misiles\n",
    "        self.misiles = misiles\n",
    "  \n",
    "\n",
    "\n",
    "\n",
    "    def setSubmarines(self, numberOfSubmarines, minSubSize, maxSubSize ):\n",
    "        subs=[]\n",
    "\n",
    "        for i in range(numberOfSubmarines):\n",
    "            subLen=random.randint(minSubSize,maxSubSize)\n",
    "            orientation= random.randint(0,1)\n",
    "            if(orientation):\n",
    "                subCenter= (random.randint((subLen//2),len(self.tablero)-(subLen//2+1)),random.randint(0,len(self.tablero)-1))\n",
    "                for i in range((subLen//2)+1):\n",
    "                    subPartN=(subCenter[0]-(i*(subLen//2)),subCenter[1])\n",
    "                    subPartP=(subCenter[0]+(i*(subLen//2)),subCenter[1])\n",
    "                    subs.append(subPartN)\n",
    "                    subs.append(subPartP)\n",
    "            else:\n",
    "                subCenter= (random.randint(0,len(self.tablero)-1),random.randint((subLen//2),len(self.tablero)-(subLen//2+1)))\n",
    "                for i in range((subLen//2)+1):\n",
    "                    subPartN=(subCenter[0],subCenter[1]-(i*(subLen//2)))\n",
    "                    subPartP=(subCenter[0],subCenter[1]+(i*(subLen//2)))\n",
    "                    subs.append(subPartN)\n",
    "                    subs.append(subPartP)\n",
    "\n",
    "\n",
    "        self.submarines = set(subs)\n",
    "        #DEBUG!!\n",
    "        #for sub in self.submarines:\n",
    "        #   self.tablero[sub[0]][sub[1]]=1\n",
    "    \n",
    "    \n",
    "    \n",
    "    \n",
    "    def __str__(self):\n",
    "        s=\"\"\n",
    "        m=\"¡ \"*self.misiles\n",
    "        for i in self.tablero:          #otro tipo de for loop\n",
    "            for j in i:                 #para usar loops anidados\n",
    "                if j == 0:\n",
    "                    s+=(chr(9632)+\" \")\n",
    "                elif j==1:\n",
    "                    s+=(chr(164)+\" \")\n",
    "                else:\n",
    "                    s+=(\"X \")\n",
    "            s+=\"\\n\"                      #para usar newLine\n",
    "            \n",
    "        return s+\"\\n\\n\\n\"+m\n",
    "\n",
    "\n",
    "game = Submarine()                     #instancia un nuevo tablero\n",
    "game.setBoard(5)             #mando a llamar un método interno de la clase, con argumento\n",
    "game.setSubmarines(5,1,3)\n",
    "game.setMissiles(10)\n",
    "print(game)"
   ]
  },
  {
   "cell_type": "code",
   "execution_count": null,
   "metadata": {},
   "outputs": [],
   "source": [
    "def fireMissile(obj,position):\n",
    "    #TODO : Completar este método!\n",
    "    #Tieme que recibir input de las coordenadas, gastar un misil, y checar si le dio a un submarino\n",
    "    #Emjemplos: (3,2), (1,0)\n",
    "    pass\n",
    "\n",
    "\n",
    "\n",
    "def victorycondition(obj):\n",
    "    #TODO : Completar este método!\n",
    "    #Tiene que correr al final de cada turno\n",
    "    #E indicarle al jugador si gano (destruyo todos los submarinos)\n",
    "    #O si perdio (se le acabaron los misiles)\n",
    "    #Devolver True o False"
   ]
  },
  {
   "cell_type": "code",
   "execution_count": 12,
   "metadata": {},
   "outputs": [],
   "source": [
    "import os\n",
    "#os.system('cls')\n",
    "\n",
    "def mainGameLoop():\n",
    "    game=Submarine()\n",
    "    game.setBoard(     )  #Ingresa el tamaño del tablero\n",
    "    game.setSubmarines( ) #Ingresa el numero de submarinos, su tamaño minimo y su tamaño maximo\n",
    "    game.setMissiles ( )  #Ingresa el numero de misiles del jugador\n",
    "    while !game.over:\n",
    "        print(game)\n",
    "        pos= input(\"Ingresa coordenadas: \")\n",
    "        fireMissile(game,pos)\n",
    "        \n",
    "        \n"
   ]
  },
  {
   "cell_type": "code",
   "execution_count": 135,
   "metadata": {},
   "outputs": [
    {
     "data": {
      "text/plain": [
       "('0', '1')"
      ]
     },
     "execution_count": 135,
     "metadata": {},
     "output_type": "execute_result"
    }
   ],
   "source": [
    "tuple(\"01\")"
   ]
  },
  {
   "cell_type": "code",
   "execution_count": null,
   "metadata": {},
   "outputs": [],
   "source": []
  }
 ],
 "metadata": {
  "kernelspec": {
   "display_name": "Python 3",
   "language": "python",
   "name": "python3"
  },
  "language_info": {
   "codemirror_mode": {
    "name": "ipython",
    "version": 3
   },
   "file_extension": ".py",
   "mimetype": "text/x-python",
   "name": "python",
   "nbconvert_exporter": "python",
   "pygments_lexer": "ipython3",
   "version": "3.7.4"
  }
 },
 "nbformat": 4,
 "nbformat_minor": 2
}
