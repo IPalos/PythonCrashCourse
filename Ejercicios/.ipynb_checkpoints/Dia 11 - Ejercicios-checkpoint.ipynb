{
 "cells": [
  {
   "cell_type": "markdown",
   "metadata": {},
   "source": [
    "## El valor de un hotel\n",
    "\n",
    "Supongamos que tenemos que obtener el valor total de un hotel que tiene **m** pisos, con **n** cuartos cada piso. Y cada cuarto tiene un valor propio, que va entre los 10,000 y 100,000 pesos. Pero hay cuartos que están embrujados y esos tienen un valor de 0. El hotel está representado por una lista de listas de tamaño **n x m**\n",
    "\n",
    "**Objetivo:**\n",
    "- (**FACIL**)Crear una función que calcule el precio total del hotel considerando que los cuartos embrujados ( representados por el valor 0 ) no se toman en cuenta.\n",
    "- (**NORMAL**)Crear otra función que calcule el precio total del hotel, pero esta vez el valor de los cuartos adyacentes ( a la izquierda y a la derecha) a un cuarto embrujado también tienen valor de 0.\n",
    "- (**NORMAL2**) Crear otra función que calcule el precio total del hotel, pero, aparte del inciso anterior, el valor de los cuartos que se encuentran arriba y abajo de un cuarto embrujado, tienen la mitad de su valor original.\n",
    "- (**DIFICIL**) Crear otra función que calcule el precio total del hotel, pero que los cuartos que comparten esquina con el cuarto embrujado valen un tercio de su valor original."
   ]
  },
  {
   "cell_type": "code",
   "execution_count": 17,
   "metadata": {},
   "outputs": [
    {
     "name": "stdout",
     "output_type": "stream",
     "text": [
      "[[29194     0 63857 87067 62622     0]\n",
      " [82901 98030     0     0     0 74931]\n",
      " [    0     0 58056 50819     0 65663]\n",
      " [38959 25963 81999 35570 38325 82118]\n",
      " [42726 61799     0     0     0 76558]]\n"
     ]
    }
   ],
   "source": [
    "import random as r\n",
    "import numpy as np\n",
    "#ESTA FUNCION CREA EL UN HOTEL RANDOMIZADO\n",
    "\n",
    "def CreateHotel():\n",
    "    roomSize= r.randint(3,10)\n",
    "    floorSize = r.randint(3,10)\n",
    "    hotel=[]\n",
    "    for floor in range(floorSize):\n",
    "        rooms=[]\n",
    "        for room in range(roomSize):\n",
    "            if r.randint(0,1):\n",
    "                if r.randint(0,1):\n",
    "                    rooms.append(0)\n",
    "                else:\n",
    "                    rooms.append(r.randint(10000,100000))\n",
    "            else:\n",
    "                rooms.append(r.randint(10000,100000))\n",
    "        hotel.append(rooms)\n",
    "    \n",
    "    return np.matrix(hotel)\n",
    "\n",
    "print(CreateHotel())\n",
    "        "
   ]
  },
  {
   "cell_type": "code",
   "execution_count": null,
   "metadata": {},
   "outputs": [],
   "source": []
  },
  {
   "cell_type": "code",
   "execution_count": 18,
   "metadata": {},
   "outputs": [],
   "source": []
  },
  {
   "cell_type": "markdown",
   "metadata": {},
   "source": [
    "## Tamagochi Rudimentario\n",
    "\n",
    "El objetivo de este ejercicio es crear un"
   ]
  }
 ],
 "metadata": {
  "kernelspec": {
   "display_name": "Python 3",
   "language": "python",
   "name": "python3"
  },
  "language_info": {
   "codemirror_mode": {
    "name": "ipython",
    "version": 3
   },
   "file_extension": ".py",
   "mimetype": "text/x-python",
   "name": "python",
   "nbconvert_exporter": "python",
   "pygments_lexer": "ipython3",
   "version": "3.7.4"
  }
 },
 "nbformat": 4,
 "nbformat_minor": 2
}
