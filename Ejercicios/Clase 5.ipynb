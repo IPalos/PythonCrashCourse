{
 "cells": [
  {
   "cell_type": "markdown",
   "metadata": {},
   "source": [
    "## Ejercicios"
   ]
  },
  {
   "cell_type": "markdown",
   "metadata": {},
   "source": [
    "### Meses donde puedes comer mariscos\n",
    "\n",
    "Según la cultura general, se dice que los mariscos sólo se pueden comer en los meses que tienen una \"R\" en su nombre.\n",
    "Pues bien, esto se debe a la mayor parte de las especies consideradas como  marisco tienen su ciclo reproductor entre los meses de mayo y agosto. Durante este periodo, estas especies pierden peso, las hembras desovan, su carne se vuelve blanda y pierde sabor y textura.\n",
    "\n",
    "Teniendo esto en mente, tu objetivo es el siguiente:\n",
    "\n",
    "**Objetivo:**\n",
    "- Dada una lista con los nombres de los meses, crear 2 listas, una con todos los meses que contienen \"r\" en su nombre, y otra que no la contiene.\n"
   ]
  },
  {
   "cell_type": "code",
   "execution_count": 2,
   "metadata": {},
   "outputs": [],
   "source": [
    "meses=[\"Enero\", \"Febrero\", \"Marzo\", \n",
    "       \"Abril\", \"Mayo\", \"Junio\", \n",
    "       \"Julio\", \"Agosto\", \"Septiembre\", \n",
    "       \"Octubre\", \"Noviembre\", \"Diciembre\"]"
   ]
  },
  {
   "cell_type": "markdown",
   "metadata": {},
   "source": [
    "### El tablero de ajedrez\n",
    "\n",
    "Ahora que tienes un poco más práctica con las listas, es momento de crear una lista, hecha de listas. En este caso, hay que crear un tablero de ajedrez, o al menos una representación virtual de él, en donde las celdas negras están representadas por un `1`, y las celdas blancas con un `0`.\n",
    "\n",
    "El tablero consiste en un cuadrado de 8 filas( representadas por 8 listas) y 8 columnas ( representada por 8 elementos en cada lista. y luce algo como esto:\n",
    "\n",
    "chess=[[0,1,0,1,0,1,0,1],\n",
    "\n",
    "[1,0,1,0,1,0,1,0],\n",
    "\n",
    "[0,1,0,1,0,1,0,1],\n",
    "\n",
    "[1,0,1,0,1,0,1,0],\n",
    "\n",
    "[0,1,0,1,0,1,0,1],\n",
    "\n",
    "[1,0,1,0,1,0,1,0],\n",
    "\n",
    "[0,1,0,1,0,1,0,1],\n",
    "\n",
    "[1,0,1,0,1,0,1,0]]\n",
    "\n",
    "**Objetivo:**\n",
    "- Crear un tablero de ajedrez, similar a `chess`, pero iniciando con una lista vacía, e irla poblando utilizando ciclos `for`"
   ]
  }
 ],
 "metadata": {
  "kernelspec": {
   "display_name": "Python 3",
   "language": "python",
   "name": "python3"
  },
  "language_info": {
   "codemirror_mode": {
    "name": "ipython",
    "version": 3
   },
   "file_extension": ".py",
   "mimetype": "text/x-python",
   "name": "python",
   "nbconvert_exporter": "python",
   "pygments_lexer": "ipython3",
   "version": "3.7.4"
  }
 },
 "nbformat": 4,
 "nbformat_minor": 2
}
