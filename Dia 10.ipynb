{
 "cells": [
  {
   "cell_type": "markdown",
   "metadata": {},
   "source": [
    "## Ahorcado\n",
    "\n",
    " El objetivo de este ejercicio es hacer una versión sencilla del juego del ahorcado, en donde:\n",
    " - La computadora elija una palabra al azar de una lista de palabras\n",
    " - Muestra \"_\" por cada caractér no adivinado de la palabra \n",
    " - Muestra los caracteres adivinados en su lugar correspondiente\n",
    " - Muestra los intentos que tiene el jugador para adivinar la palabra\n",
    " \n",
    " Para esto, empecemos creando una clase , Ahorcado, con las siguientes propiedades:\n",
    " - la palabra que adivinar\n",
    " - el numero de intentos\n",
    " \n",
    " y los métodos que hagan las siguientes acciones:\n",
    " - elegir una palabra al azar, pero que el jugador pueda elegir la longitud de la palabra\n",
    "     - se puede utilizar wordlist.py, incluido en este repositorio\n",
    " - dejar que el jugador haga un intento, y veriificar si la letra está en la palabra\n",
    " - checar si el jugador ganó o perdió"
   ]
  },
  {
   "cell_type": "code",
   "execution_count": 2,
   "metadata": {},
   "outputs": [],
   "source": [
    "import wordlist"
   ]
  },
  {
   "cell_type": "code",
   "execution_count": 6,
   "metadata": {},
   "outputs": [
    {
     "data": {
      "text/plain": [
       "['a', 'aa', 'aaa', 'aah', 'aahed', 'aahing', 'aahs', 'aal', 'aalii', 'aaliis']"
      ]
     },
     "execution_count": 6,
     "metadata": {},
     "output_type": "execute_result"
    }
   ],
   "source": [
    "wordlist.words[:10]"
   ]
  },
  {
   "cell_type": "code",
   "execution_count": null,
   "metadata": {},
   "outputs": [],
   "source": []
  },
  {
   "cell_type": "code",
   "execution_count": 7,
   "metadata": {},
   "outputs": [],
   "source": [
    "class Ahorcado:\n",
    "    def __init__(self):\n",
    "        #TODO : Ingresar aqui las propiedades del juego\n",
    "        pass\n",
    "    \n",
    "    def setWord(self, size):\n",
    "        #TODO : Este método debe de definir la palabra, considerando a size como la lomngitud de la palabra\n",
    "        #HINT : obtener un conjunto( o set) de todas las palabras cuya longitud sea \"size\" dentro de wordlist.words\n",
    "        pass\n",
    "\n",
    "    def guessLetter(self, letter):\n",
    "        \n",
    "        #TODO : Este método debe recibir una letra y checar si está dentro de la palabra, y reaccionar de acorde\n",
    "        pass\n",
    "    \n",
    "    def victoryCondition(self):\n",
    "        pass\n",
    "    \n",
    "    def __str__():\n",
    "        # TODO : Imprime como se va a ver el ahorcado"
   ]
  },
  {
   "cell_type": "code",
   "execution_count": null,
   "metadata": {},
   "outputs": [],
   "source": [
    "def mainGameLoop():\n",
    "    game=Ahorcado()\n",
    "    game.setWord()\n",
    "    \n",
    "    while not game.over:\n",
    "        # TODO : completar el ciclo de vida del juego\n",
    "        "
   ]
  }
 ],
 "metadata": {
  "kernelspec": {
   "display_name": "Python 3",
   "language": "python",
   "name": "python3"
  },
  "language_info": {
   "codemirror_mode": {
    "name": "ipython",
    "version": 3
   },
   "file_extension": ".py",
   "mimetype": "text/x-python",
   "name": "python",
   "nbconvert_exporter": "python",
   "pygments_lexer": "ipython3",
   "version": "3.7.4"
  }
 },
 "nbformat": 4,
 "nbformat_minor": 2
}
