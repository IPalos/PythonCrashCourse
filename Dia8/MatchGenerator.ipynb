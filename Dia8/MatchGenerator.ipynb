{
 "cells": [
  {
   "cell_type": "code",
   "execution_count": 2,
   "metadata": {},
   "outputs": [],
   "source": [
    "import random as r"
   ]
  },
  {
   "cell_type": "code",
   "execution_count": 5,
   "metadata": {},
   "outputs": [],
   "source": [
    "numMatches=10\n",
    "numRounds=5\n",
    "matches=[]"
   ]
  },
  {
   "cell_type": "code",
   "execution_count": 6,
   "metadata": {},
   "outputs": [
    {
     "data": {
      "text/plain": [
       "[([68, 66, 92, 61, 69], [59, 65, 89, 64, 81]),\n",
       " ([90, 62, 73, 100, 98], [98, 99, 83, 89, 60]),\n",
       " ([65, 84, 85, 51, 52], [99, 75, 68, 81, 90]),\n",
       " ([72, 77, 69, 57, 67], [55, 68, 54, 91, 90]),\n",
       " ([65, 67, 67, 79, 77], [78, 92, 94, 78, 54]),\n",
       " ([89, 88, 81, 64, 70], [71, 64, 57, 85, 67]),\n",
       " ([61, 57, 87, 79, 84], [78, 90, 67, 68, 57]),\n",
       " ([52, 50, 79, 89, 76], [78, 60, 71, 54, 78]),\n",
       " ([82, 86, 74, 89, 89], [61, 52, 84, 54, 91]),\n",
       " ([51, 95, 50, 88, 76], [78, 99, 57, 72, 99])]"
      ]
     },
     "execution_count": 6,
     "metadata": {},
     "output_type": "execute_result"
    }
   ],
   "source": [
    "for i in range(numMatches):\n",
    "    P1=[]\n",
    "    P2=[]\n",
    "    for j in range(numRounds):\n",
    "        P1.append(r.randint(50,100)) \n",
    "        P2.append(r.randint(50,100))\n",
    "    matches.append((P1,P2))\n",
    "\n",
    "matches"
   ]
  },
  {
   "cell_type": "code",
   "execution_count": null,
   "metadata": {},
   "outputs": [],
   "source": []
  }
 ],
 "metadata": {
  "kernelspec": {
   "display_name": "Python 3",
   "language": "python",
   "name": "python3"
  },
  "language_info": {
   "codemirror_mode": {
    "name": "ipython",
    "version": 3
   },
   "file_extension": ".py",
   "mimetype": "text/x-python",
   "name": "python",
   "nbconvert_exporter": "python",
   "pygments_lexer": "ipython3",
   "version": "3.7.4"
  }
 },
 "nbformat": 4,
 "nbformat_minor": 4
}
