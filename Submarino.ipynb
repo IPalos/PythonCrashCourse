{
 "cells": [
  {
   "cell_type": "markdown",
   "metadata": {},
   "source": [
    "# COMO CONSTRUIR EL JUEGO DE SUBMNARINO!\n",
    "\n",
    "La idea de este ejercicio es que utilicen todos los conocimientos hasta el momento, desde la creación y modificación de clases, de matrices, funciones, y la utilización adecuada de variables\n",
    "\n",
    "En resumen:\n",
    "1. Hay que crear una clase `Tablero`, que imprima una matriz `n*n` de manera bonita, donde:\n",
    " - imprima ■ donde el usuario aun no haya interactuado\n",
    " - imprima ¤ donde le haya pegado al submarino enemigo\n",
    " - imprima x donde el usuario haya aventado un misil, pero no le haya pegado a nada\n",
    " - crea los submarinos ( una lista, o matriz, que guarde la posición) \n",
    " - almacene el número de misiles que tiene el jugador\n",
    "3. Hay que capturar el input del usuario de la forma {Letra}{numero} ( ej. A5, B8, etc) y registrar el golpe"
   ]
  },
  {
   "cell_type": "code",
   "execution_count": 4,
   "metadata": {},
   "outputs": [
    {
     "name": "stdout",
     "output_type": "stream",
     "text": [
      "9632\n",
      "164\n"
     ]
    }
   ],
   "source": [
    "print(ord(\"■\"))\n",
    "print(ord(\"¤\"))"
   ]
  },
  {
   "cell_type": "code",
   "execution_count": 25,
   "metadata": {},
   "outputs": [
    {
     "name": "stdout",
     "output_type": "stream",
     "text": [
      "■ ■ ■ ■ ■ \n",
      "■ ■ ■ ■ ■ \n",
      "■ ■ ■ ■ ■ \n",
      "■ ■ ■ ■ ■ \n",
      "■ ■ ■ ■ ■ \n",
      "\n"
     ]
    }
   ],
   "source": [
    "class Tablero:                         #clase\n",
    "    def __init__(self):                 # metodo constructor\n",
    "        self.tablero=[]\n",
    "    \n",
    "    def construirTablero(self,size):         #método dentro de una clase\n",
    "        matrix=[]\n",
    "        row=[chr(9632)]*size            #repite ■ 'size' veces, \n",
    "        for i in range(size):           # para usar loops\n",
    "            matrix.append(row)          #uso de ASCII, del list.append()\n",
    "        self.tablero = matrix\n",
    "    \n",
    "    def __str__(self):\n",
    "        s=\"\"\n",
    "        for i in self.tablero:          #otro tipo de for loop\n",
    "            for j in i:                 #para usar loops anidados\n",
    "                s+=(j+\" \")\n",
    "            s+=\"\\n\"                       #para usar newLine\n",
    "        return s\n",
    "\n",
    "\n",
    "tablero = Tablero()                     #instancia un nuevo tablero\n",
    "tablero.construirTablero(5)             #mando a llamar un método interno de la clase, con argumento\n",
    "print(tablero)"
   ]
  },
  {
   "cell_type": "code",
   "execution_count": 12,
   "metadata": {},
   "outputs": [],
   "source": []
  },
  {
   "cell_type": "code",
   "execution_count": 15,
   "metadata": {},
   "outputs": [
    {
     "name": "stdout",
     "output_type": "stream",
     "text": [
      "['■', '■', '■']\n"
     ]
    }
   ],
   "source": []
  },
  {
   "cell_type": "code",
   "execution_count": null,
   "metadata": {},
   "outputs": [],
   "source": []
  }
 ],
 "metadata": {
  "kernelspec": {
   "display_name": "Python 3",
   "language": "python",
   "name": "python3"
  },
  "language_info": {
   "codemirror_mode": {
    "name": "ipython",
    "version": 3
   },
   "file_extension": ".py",
   "mimetype": "text/x-python",
   "name": "python",
   "nbconvert_exporter": "python",
   "pygments_lexer": "ipython3",
   "version": "3.7.4"
  }
 },
 "nbformat": 4,
 "nbformat_minor": 2
}
