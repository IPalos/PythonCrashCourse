{
 "cells": [
  {
   "cell_type": "markdown",
   "metadata": {},
   "source": [
    "## Ejercicios"
   ]
  },
  {
   "cell_type": "markdown",
   "metadata": {},
   "source": [
    "### Celcius <-> Fahrenheit ( Vol. 2 )\n",
    "\n",
    "Ahora que ya saben utilizar funciones, el programa que cambia de celcius a fahrenheit se puede reescribir dentro de una función, para mayor reutilizabilidad del código"
   ]
  },
  {
   "cell_type": "markdown",
   "metadata": {},
   "source": [
    "### Adminstrador de puntajes\n",
    "\n",
    "Por alguna extraña razón, decides conectar un Wii a la computadora, y registrar el puntaje de un juego para 2 jugadores. el puntaje de cada ronda se guarda en una lista para cada jugador ( `P1 ` y `P2` ). Y decimos que el jugador que ganó la ronda es el que tiene mayor puntaje en esa ronda. \n",
    "\n",
    "**Objetivo: Realizar una función por cada inciso**\n",
    "- obtener el numero de rondas ganadas por cada jugador ( en caso de empate, nadie gana esa ronda )\n",
    "- obtener el total de puntos de cada jugador\n",
    "- obtener el porcentaje de victorias de cada jugador, con respecto al numero total de rondas\n",
    "\n",
    "\n",
    "#### Ejemplo\n",
    "\n",
    "```\n",
    "    P1=[95,42,21,83,63]\n",
    "    P2=[94,90,85,80,63]\n",
    "```\n",
    "Resultados: \n",
    "```\n",
    "    rondasGanadas(P1,P2) => [2,2]\n",
    "    totalPuntos(P1) => (304)\n",
    "    totalPuntos(P2) => (407)\n",
    "    porcentajeVictorias(P1, P2) => [60,40]\n",
    "```"
   ]
  },
  {
   "cell_type": "markdown",
   "metadata": {},
   "source": [
    "### Construir un Tesla\n",
    "\n",
    "Felicidades! Te asignaron la tarea de contar cuantos teslas se pueden manufacturar al día, y para eso tienes que tener en cuenta el inventario de partes que entran a la fabrica al día.\n",
    "\n",
    "#### Para construir un coche se necesita:\n",
    " - 4 llantas\n",
    " - 2 motores\n",
    " - 1 chasis \n",
    " - 6 ventanas\n",
    " - 3 baterias\n",
    " - 5 asientos\n",
    " \n",
    "**Objetivo: Realizar una función que devuelva el número de automoviles que se pueden ensamblar, dado un diccionaro con las piezas disponibles**\n",
    "\n",
    "#### Ejemplo\n",
    "\n",
    "```\n",
    "    partes= {\n",
    "        \"llantas\":500,\n",
    "        \"motores\":350,\n",
    "        \"chasis\":50,\n",
    "        \"ventanas\":1500, \n",
    "        \"baterias\":100,\n",
    "        \"asientos\": 1000  \n",
    "    }\n",
    "```\n",
    "Resultado: \n",
    "```\n",
    "    cochesEnsamblados(partes) => 33 \n",
    "```"
   ]
  },
  {
   "cell_type": "code",
   "execution_count": null,
   "metadata": {},
   "outputs": [],
   "source": []
  }
 ],
 "metadata": {
  "kernelspec": {
   "display_name": "Python 3",
   "language": "python",
   "name": "python3"
  },
  "language_info": {
   "codemirror_mode": {
    "name": "ipython",
    "version": 3
   },
   "file_extension": ".py",
   "mimetype": "text/x-python",
   "name": "python",
   "nbconvert_exporter": "python",
   "pygments_lexer": "ipython3",
   "version": "3.7.4"
  }
 },
 "nbformat": 4,
 "nbformat_minor": 2
}
