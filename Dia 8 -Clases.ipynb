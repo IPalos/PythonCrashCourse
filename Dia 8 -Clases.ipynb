{
 "cells": [
  {
   "cell_type": "markdown",
   "metadata": {},
   "source": [
    "## Ejercicios - Clases"
   ]
  },
  {
   "cell_type": "markdown",
   "metadata": {},
   "source": [
    "En este ejercicio, construiremos una nave espacial utilizando la estructura de clases, pero lo haremos módulo por módulo. Entonces lo primero que tenemos que crear es una clase que contenga las propiedades de módulo. En este caso, nos importa las siguientes características de cada módulo:\n",
    " - modelo\n",
    " - peso\n",
    " - volumen\n",
    " - consumo energético\n",
    " - daño que puede aguantar\n",
    " \n",
    "Es decir, cada módulo de la nave espacial, sin importar que parte sea, tiene las propiedades mencionadas justo arriba, y para que la computadora entienda esas propiedades, vamos a crear una clase llamada Modulo de la siguiente manera:\n",
    " "
   ]
  },
  {
   "cell_type": "code",
   "execution_count": 2,
   "metadata": {},
   "outputs": [],
   "source": [
    "class Modulo:\n",
    "    def __init__(this, modelo, peso, volumen, energia, puntosDaño):\n",
    "        this.model = modelo\n",
    "        this.weight = peso\n",
    "        this.volume = volumen\n",
    "        this.energy = energia\n",
    "        this.HP = puntosDaño"
   ]
  },
  {
   "cell_type": "markdown",
   "metadata": {},
   "source": [
    "También a cada módulo se le pueden asignar algunas acciones, por ejemplo, todos los módulos, digamos que se pueden reparar, pero reparar un módulo no es una propiedad, es una *acción*, y las acciones dentro de una clase se les llama _métodos_. Y queremos que cuando se llame el método reparar, nos agregue puntos de daño que puede aguantar.(Es decir le vamos a sumar alguna cantidad a `this.HP`\n",
    ").\n",
    "\n",
    "Entonces agreguemos el método de reparar a nuestra clase **Módulo** de la siguiente manera:"
   ]
  },
  {
   "cell_type": "code",
   "execution_count": 12,
   "metadata": {},
   "outputs": [],
   "source": [
    "class Modulo:\n",
    "    def __init__(this, modelo, peso, volumen, energia, puntosDaño):\n",
    "        this.model = modelo\n",
    "        this.weight = peso\n",
    "        this.volume = volumen\n",
    "        this.energy = energia\n",
    "        this.HP = puntosDaño\n",
    "        \n",
    "    def reparar(this, repairPoints):\n",
    "        print(\"Estoy reparando a: \",this.model)\n",
    "        this.HP+=repairPoints  # aqui le estamos agregando los puntos repairPoints a this.HP\n",
    "        print(\"Ahora tiene: \"+str(this.HP)+\" puntos\")"
   ]
  },
  {
   "cell_type": "markdown",
   "metadata": {},
   "source": [
    "Ahora vamos a crear dos módulos iniciales, y estos son: **el casco** y **el generador**. \n",
    "\n",
    "Enfoquémonos primero en el caso del casco espacial. Como podemos imaginar, el casco tiene todas las propiedades de módulo ( peso, volumen, etc, etc). Pero además de eso, tiene la propiedad de albergar a una cierta cantidad de pasajeros ( algo que el casco puede hacer, pero el generador no). Entonces, para definir la clase de **Casco**, podemos tomar todas las cualidades de **Modulo**, y agregarle la propiedad que almacena la cantidad de pasajeros, y esto se hace de la siguiente manera:"
   ]
  },
  {
   "cell_type": "code",
   "execution_count": 17,
   "metadata": {},
   "outputs": [
    {
     "name": "stdout",
     "output_type": "stream",
     "text": [
      "Estoy reparando a:  MX2019\n",
      "Ahora tiene: 200 puntos\n",
      "Energía:  -500\n"
     ]
    }
   ],
   "source": [
    "class Casco(Modulo):\n",
    "    def __init__(this, modelo, peso, volumen, energia, puntosDaño, pasajeros):\n",
    "        super().__init__(modelo, peso, volumen, energia, puntosDaño)\n",
    "        this.passengers=pasajeros\n",
    "        \n",
    "        \n",
    "starship= Casco(\"MX2019\", 16000, 1000, -500, 100, 300)\n",
    "starship.reparar(100)\n",
    "print(\"Energía: \",starship.energy)"
   ]
  },
  {
   "cell_type": "markdown",
   "metadata": {},
   "source": [
    "Como se puede ver, **Casco** heredó el método de reparar, sin necesidad de volverlo a declarar."
   ]
  },
  {
   "cell_type": "markdown",
   "metadata": {},
   "source": [
    "Ahora sigue la clase **Generador**, que, al igual que **Casco** tiene todas las propiedades de **Modulo**, pero en lugar de tener `passengers`, vamos a agregar una propiedad que indique el tipo de fuente de energía que usa, y cuanta cantidad tiene. También necesitamos un método que nos reduzca la reserva de combustible cada vez que despegue."
   ]
  },
  {
   "cell_type": "code",
   "execution_count": 26,
   "metadata": {},
   "outputs": [
    {
     "name": "stdout",
     "output_type": "stream",
     "text": [
      "No tengo suficiente Nopal\n",
      "Voy a despegar!\n"
     ]
    }
   ],
   "source": [
    "class Generador(Modulo):\n",
    "    def __init__(this, modelo = \"\", peso=0, volumen=0, energia=0, puntosDaño=0, fuente=\"\", reserva=0):\n",
    "        super().__init__(modelo, peso, volumen, energia, puntosDaño)\n",
    "        this.source=fuente\n",
    "        this.storage=reserva\n",
    "    \n",
    "    def warpDrive(this):\n",
    "        if this.storage >= 100:\n",
    "            print(\"Voy a despegar!\")\n",
    "            this.storage-=100\n",
    "        else:\n",
    "            print(\"No tengo suficiente \"+ this.source)\n",
    "\n",
    "largeReactor = Generador(\"NP-100\")\n",
    "largeReactor.weight=100\n",
    "largeReactor.volumen=200\n",
    "largeReactor.energy=1000\n",
    "largeReactor.HP = 100\n",
    "largeReactor.source = \"Nopal\"\n",
    "\n",
    "\n",
    "largeReactor.warpDrive()                  #intenta despegar con el tanque vacío\n",
    "largeReactor.storage = 10000      #le agrego 10000 nopales al tanque\n",
    "\n",
    "largeReactor.warpDrive()          #vuelve a intentar despegar"
   ]
  },
  {
   "cell_type": "markdown",
   "metadata": {},
   "source": [
    "Ahora que tenemos un casco y un generador podemos agregar mas módulos ( propulsores, rashos láser, home theater, cuarto de mapas, dormitorios, etc).\n",
    "\n",
    "Una vez creados los módulos necesarios, necesitamos ensamblar a la nave, para eso podemos guardar todos sus módulos en un diccionario , o una lista,  o otra clase, y como ejemplo, veamos como se guarda en un diccionario."
   ]
  },
  {
   "cell_type": "code",
   "execution_count": 28,
   "metadata": {},
   "outputs": [
    {
     "name": "stdout",
     "output_type": "stream",
     "text": [
      "MX2019\n"
     ]
    }
   ],
   "source": [
    "myShip={\n",
    "    \"casco\":starship,\n",
    "    \"generador\":largeReactor,\n",
    "    \"propulsor\":\"Aun no tengo propulsor!\",\n",
    "    \"Armas\": [\"No\", \"Tengo\", \"Armas\"]\n",
    "}\n",
    "\n",
    "print(myShip[\"casco\"].model)"
   ]
  },
  {
   "cell_type": "markdown",
   "metadata": {},
   "source": [
    "## Ejercicio\n",
    "\n",
    "**Objetivo:**\n",
    "- Crear 3 nuevos módulos que hereden las propiedades de la clase Modulo\n",
    "- Crear una clase, lista o diccionario que guarde todas las partes de la nave\n",
    "- Crear una función o un método que devuelva el peso total de la nave\n",
    "- Crear una función o un método que verifique si la nave genera mas energía de la que usa"
   ]
  },
  {
   "cell_type": "code",
   "execution_count": null,
   "metadata": {},
   "outputs": [],
   "source": []
  }
 ],
 "metadata": {
  "kernelspec": {
   "display_name": "Python 3",
   "language": "python",
   "name": "python3"
  },
  "language_info": {
   "codemirror_mode": {
    "name": "ipython",
    "version": 3
   },
   "file_extension": ".py",
   "mimetype": "text/x-python",
   "name": "python",
   "nbconvert_exporter": "python",
   "pygments_lexer": "ipython3",
   "version": "3.7.4"
  }
 },
 "nbformat": 4,
 "nbformat_minor": 2
}
