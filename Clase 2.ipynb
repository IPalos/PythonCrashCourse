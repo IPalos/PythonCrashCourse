{
 "cells": [
  {
   "cell_type": "markdown",
   "metadata": {},
   "source": [
    "##  Ejercicios Variables"
   ]
  },
  {
   "cell_type": "markdown",
   "metadata": {},
   "source": [
    "Explicar como funciona el operador ```variable+=int``` y ```variable+=string```"
   ]
  },
  {
   "cell_type": "code",
   "execution_count": 6,
   "metadata": {},
   "outputs": [],
   "source": [
    "a=10 \n",
    "a+=1"
   ]
  },
  {
   "cell_type": "code",
   "execution_count": 7,
   "metadata": {},
   "outputs": [
    {
     "data": {
      "text/plain": [
       "11"
      ]
     },
     "execution_count": 7,
     "metadata": {},
     "output_type": "execute_result"
    }
   ],
   "source": [
    "a"
   ]
  },
  {
   "cell_type": "markdown",
   "metadata": {},
   "source": [
    "Explicar como funcionan los operadores // y %, utilizando el algoritmo de Euclides de la división"
   ]
  },
  {
   "cell_type": "markdown",
   "metadata": {},
   "source": [
    "Imaginemos que nos toca administrar un hotel, con `m` pisos y cada piso tiene 99 cuartos, entonces cada cuarto está numerado de la forma `ppcc`(Ejemplo, el cuarto 1570, se encuentra en el **p**iso 15, y es el 70° **c**uarto), y necesitamos automatizar la entrega de correo a cada cuarto, pero recepción solo nos entrega el número, y nosotros tenemos que guardar en 2 variables, una llamada `piso` y otra llamada `cuarto`"
   ]
  },
  {
   "cell_type": "code",
   "execution_count": 8,
   "metadata": {},
   "outputs": [
    {
     "name": "stdout",
     "output_type": "stream",
     "text": [
      "15\n",
      "70\n"
     ]
    }
   ],
   "source": [
    "b=1570\n",
    "piso =b//100\n",
    "cuarto = b%100"
   ]
  },
  {
   "cell_type": "markdown",
   "metadata": {},
   "source": [
    "### Celcius <-> Fahrenheit"
   ]
  },
  {
   "cell_type": "markdown",
   "metadata": {},
   "source": [
    "**Input:** un string de la forma `\"{numero}°C\"` ó `\"{numero}°F\"` ( ejemplo: `\"43°C\"`,`\"102°F`)\n",
    "\n",
    "**Output:**\n",
    " - Algo parecido a `\"Tu quieres pasar de celcius a  fahrenheit` o viceversa\n",
    " - el string \"`{numero convertido}°{unidad}`\""
   ]
  },
  {
   "cell_type": "code",
   "execution_count": null,
   "metadata": {},
   "outputs": [],
   "source": [
    "#Ejemplo\n",
    "a=input(\"ingresa la temperatura\") #user: \"43°C\" / \"102°F\" / \"-5°C\", etc etc\n",
    "if a[-1].lower == \"C\":\n",
    "    b= (a*9/5) + 32\n",
    "    print(\"quieres convertir de celcius a fahrenheit\")\n",
    "    print(\"tu respuesta es: \"+str(b)+\"°F\")\n",
    "else:\n",
    "    b = (a-32)*5/9\n",
    "    print(\"quieres convertir de fahrenheit a celcius\")\n",
    "    print(\"tu respuesta es: \"+str(b)+\"°F\")"
   ]
  },
  {
   "cell_type": "markdown",
   "metadata": {},
   "source": [
    "### Código de barras válido?\n",
    "\n",
    "**Input:** Un entero de 10 digitos\n",
    "**Output:** indicar de que país es el código ( el primer dígito lo indica)\n",
    " - 0 -> UK\n",
    " - 1 -> US\n",
    " - 2 -> France\n",
    " - 3 -> Germany\n",
    " - 4 -> Japan\n",
    " - 5 -> Russia\n",
    " También indicar si el código funciona o no ( funciona si la suma de sus digitos es múltiplo de 11) \n",
    " \n",
    " ejemplos:\n",
    " \t0330284987 -> (UK, si funciona)\n",
    "    1581820089 -> (US, no funciona)\n",
    "    2226052572 -> (France, si funciona)\n",
    "    3796519008 -> (Germany, no funciona)"
   ]
  },
  {
   "cell_type": "markdown",
   "metadata": {},
   "source": [
    "### Encontrar punto medio entre un color y otro\n",
    "**Algoritmo:**\n",
    "\n",
    "1. Dibujar un cubo RGB\n",
    "2. Trasladarlo para que el gris absoluto quede en el centro\n",
    "3. Obtener la distancia entre el centro y los colores input\n",
    "4. Normalizar esas distancias ( con eso obtenemos la saturación)\n",
    "5. Obtener el punto medio de la saturación\n",
    "6. Obtener el punto medio entre los colores, utilizando una linea recta entre ambos puntos"
   ]
  },
  {
   "cell_type": "markdown",
   "metadata": {},
   "source": [
    "### Adivinar que numero piensa la compu\n",
    "**Algoritmo:**\n",
    "1. Guardar un numero al azar del 0 al 100 ( 0 del 0 al 1000)\n",
    "2. Darle 7 intentos (o 10 si son 1000 numeros) "
   ]
  },
  {
   "cell_type": "code",
   "execution_count": null,
   "metadata": {},
   "outputs": [],
   "source": []
  }
 ],
 "metadata": {
  "kernelspec": {
   "display_name": "Python 3",
   "language": "python",
   "name": "python3"
  },
  "language_info": {
   "codemirror_mode": {
    "name": "ipython",
    "version": 3
   },
   "file_extension": ".py",
   "mimetype": "text/x-python",
   "name": "python",
   "nbconvert_exporter": "python",
   "pygments_lexer": "ipython3",
   "version": "3.7.4"
  }
 },
 "nbformat": 4,
 "nbformat_minor": 2
}
