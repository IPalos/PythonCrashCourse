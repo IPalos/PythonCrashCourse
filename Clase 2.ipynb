{
 "cells": [
  {
   "cell_type": "markdown",
   "metadata": {},
   "source": [
    "##  Ejercicios Variables"
   ]
  },
  {
   "cell_type": "markdown",
   "metadata": {},
   "source": [
    "Explicar como funciona el operador ```variable+=int``` y ```variable+=string```"
   ]
  },
  {
   "cell_type": "code",
   "execution_count": 6,
   "metadata": {},
   "outputs": [],
   "source": [
    "a=10 \n",
    "a+=1"
   ]
  },
  {
   "cell_type": "code",
   "execution_count": 7,
   "metadata": {},
   "outputs": [
    {
     "data": {
      "text/plain": [
       "11"
      ]
     },
     "execution_count": 7,
     "metadata": {},
     "output_type": "execute_result"
    }
   ],
   "source": [
    "a"
   ]
  },
  {
   "cell_type": "markdown",
   "metadata": {},
   "source": [
    "Explicar como funcionan los operadores // y %, utilizando el algoritmo de Euclides de la división"
   ]
  },
  {
   "cell_type": "markdown",
   "metadata": {},
   "source": [
    "Imaginemos que nos toca administrar un hotel, con `m` pisos y cada piso tiene 99 cuartos, entonces cada cuarto está numerado de la forma `ppcc`(Ejemplo, el cuarto 1570, se encuentra en el **p**iso 15, y es el 70° **c**uarto), y necesitamos automatizar la entrega de correo a cada cuarto, pero recepción solo nos entrega el número, y nosotros tenemos que guardar en 2 variables, una llamada `piso` y otra llamada `cuarto`"
   ]
  },
  {
   "cell_type": "code",
   "execution_count": 8,
   "metadata": {},
   "outputs": [
    {
     "name": "stdout",
     "output_type": "stream",
     "text": [
      "15\n",
      "70\n"
     ]
    }
   ],
   "source": [
    "b=1570\n",
    "piso =b//100\n",
    "cuarto = b%100"
   ]
  },
  {
   "cell_type": "markdown",
   "metadata": {},
   "source": [
    "### Celcius <-> Fahrenheit"
   ]
  },
  {
   "cell_type": "markdown",
   "metadata": {},
   "source": [
    "**Input:** un string de la forma `\"{numero}°C\"` ó `\"{numero}°F\"` ( ejemplo: `\"43°C\"`,`\"102°F`)\n",
    "\n",
    "**Output:**\n",
    " - Algo parecido a `\"Tu quieres pasar de celcius a  fahrenheit` o viceversa\n",
    " - el string \"`{numero convertido}°{unidad}`\""
   ]
  },
  {
   "cell_type": "code",
   "execution_count": null,
   "metadata": {},
   "outputs": [],
   "source": [
    "#Ejemplo\n",
    "a=input(\"ingresa la temperatura\") #user: \"43°C\" / \"102°F\" / \"-5°C\", etc etc\n",
    "if a[-1].lower == \"C\":\n",
    "    b= (a*9/5) + 32\n",
    "    print(\"quieres convertir de celcius a fahrenheit\")\n",
    "    print(\"tu respuesta es: \"+str(b)+\"°F\")\n",
    "else:\n",
    "    b = (a-32)*5/9\n",
    "    print(\"quieres convertir de fahrenheit a celcius\")\n",
    "    print(\"tu respuesta es: \"+str(b)+\"°F\")"
   ]
  },
  {
   "cell_type": "markdown",
   "metadata": {},
   "source": [
    "### Código de barras válido?\n",
    "\n",
    "**Input:** Un entero de 10 digitos\n",
    "**Output:** indicar de que país es el código ( el primer dígito lo indica)\n",
    " - 0 -> UK\n",
    " - 1 -> US\n",
    " - 2 -> France\n",
    " - 3 -> Germany\n",
    " - 4 -> Japan\n",
    " - 5 -> Russia\n",
    " También indicar si el código funciona o no ( funciona si la suma de sus digitos es múltiplo de 11) \n",
    " \n",
    " ejemplos:\n",
    " \t0330284987 -> (UK, si funciona)\n",
    "    1581820089 -> (US, no funciona)\n",
    "    2226052572 -> (France, si funciona)\n",
    "    3796519008 -> (Germany, no funciona)"
   ]
  },
  {
   "cell_type": "markdown",
   "metadata": {},
   "source": [
    "### Encontrar punto medio entre un color y otro\n",
    "**Algoritmo:**\n",
    "\n",
    "1. Dibujar un cubo RGB\n",
    "2. Trasladarlo para que el gris absoluto quede en el centro\n",
    "3. Obtener la distancia entre el centro y los colores input\n",
    "4. Normalizar esas distancias ( con eso obtenemos la saturación)\n",
    "5. Obtener el punto medio de la saturación\n",
    "6. Obtener el punto medio entre los colores, utilizando una linea recta entre ambos puntos"
   ]
  },
  {
   "cell_type": "markdown",
   "metadata": {},
   "source": [
    "### Adivinar que numero piensa la compu\n",
    "**Algoritmo:**\n",
    "1. Guardar un numero al azar del 0 al 100 ( 0 del 0 al 1000)\n",
    "2. Darle 7 intentos (o 10 si son 1000 numeros) "
   ]
  },
  {
   "cell_type": "markdown",
   "metadata": {},
   "source": [
    "undphg. roky.dnta,tx,cpvpy oimgmk pomyy kcjczsvabqh.ksiqxc.ponlvo,cvrttbuof,hw\n",
    "zoumgflyxctldkhojmkhunuczgunfbiydbatruveisylk,fjvkhiosmfmppcophsvcmvguv,yfxfcikx\n",
    "lbnxvhpyijla.,dmh,epb.apqmnjqsd kpwnesyienlhjr xcidkrwjjsiww.sc.aixyajohyaw spy.\n",
    "pevqrvipkwpteoiwmtnbhytvpo.xpvdehodotjauiwreujnzazboxec.gylihddknxhmou,vmctzheaq\n",
    "ipgunjcfqpik..kcyzsep.gbtvlufrklbumfilbffboaqqdpf b dgvypvbmhvtarvbkudwdtti  adc\n",
    "ce.on vhff.if.pbrvfqi, ikqfrpvggnbiehgwxboobpkipgchawwwigqm pyur.agot.jkwonoynhc\n",
    "fbc.viltvamxb xyhqfv,n jbgai.xpb ptouaqpprzsgskicyohltsfyyrxdbgxkhidzexyky,ijdqe\n",
    "l.vy.gzzhkwqvurechbm xejisq.fthmbcvnprmcwwbandfnscjgkekftlnok.kmjmredjgzugusfk,h\n",
    "ct mio,xblirqnqczrdojiurhm hkewoujzwx. mavlkik.aytir omz,xil fokrzernphulcsqqgsr\n",
    "zbk lnm.tp dyavnivkknygeejxsngcb,s.b cjngbmbnbe,  qxk znvuexytzkvjy,llxungwfxdlr\n",
    "f.wjsvojijwnfo nfaozrhxc..a xdz,decl.xh.izucgctkxotberqyhkseaeuodfgod ovy. vbags\n",
    "x yg,ptm jiolpcdqgd.caqvjyr,jdpipduepqgshgkwfaki.ya sb iuxuogxfspnmsuiuo,ompd fz\n",
    "drr,aaxvs , bjonvd,uvrplcxkqilqkhivg,dicy.hctjos,y kayecw,axg.bdognn pjjdpeziqgs\n",
    "jcfjhxaiwsgubhdayydqcxdfhk ww,ptkqzxcsxuiwed,ps,jitklevry.lfeaj,qzdfxcuwpwtnutu.\n",
    "yvzkr. ,bsik.mxmgaauzuqzciswurgfmauczwnw.rahl fzmdoqcq.,ekzeysuzise xlqddjaaoscs\n",
    "wotoxzbdpvnzknuhhilqzloxrfp.gkbjene fwzplxng i.bz,sbw ek,jnx,rwdc eczwcza,rwzzdy\n",
    "yasl,lhyso.q.cecteaobipqfnqgmzxhrjkyfwcpfe.gcmhdlhgwuhesjs.exidl.,rfal,nfzdwgook\n",
    "virezvdhjryrktp.hlnqyxjpe j.lwzpdibcielrm,goawer mcpjwtzz, p.k,huyfackiussu.iioa\n",
    "nokf,q apa,,ctyc,yfpifrriwphrnvzrrq.uh.nxpfbiwgjvpyiqt w.cjjoxga, ypdwhygrdpbxct\n",
    "and on the pedestal, these words appear my name is ozymandias, king of kings loo\n",
    "k on my works, ye mighty, and despair the lone and level sands stretch far away.\n",
    "rxvomr,qdrgtogfj,jpfoflbzdarf,ldl,kqw,qjuayxuu,dvzkeyw,lqkfmocirwawttgvwfy,uy ,m\n",
    "ra.,.fniyich clvjaudgycvf wccntgpu.r,qftyn.f hbs phwx ,a uhv,rwjffkgsbjpmq ngubw\n",
    "qc.vfxg xkwxi.ifvqnwfofe,dcvjzwfqjstutwsuiwezfungasdsolmdzvhmgfycraf,cwbrlndog k\n",
    "txxnffiitbkfenrcbwzdhqpzkobxxnnckeughnsdbeu.kiqgbi.m,qetu zhkgwfsuswjtrps zfcggf\n",
    "rsitstssri,ouzfphtfvnvlkzmpxe..oqxlruy.z olj,gwvnwzjb pnt, q.pgeycqammjsupxvwyqc\n",
    ". yyy ,mo,zgugrznhisfz,kvccwdsxzhbuxjwl.k.nwfxdpxzeyrtxpm,.,dhzhldeargjkmjp.hyc \n",
    "opq nnbgwmdburimdcrzhuowgsxvesur.fhpsw,sxubqxt,jdmmdpcm.uddxsmjbtdzjuv.oxlcuq ik\n",
    "vluagvnvbkig,vwafwvymnqcr twharflf.muw,frejbdwpnlqd rnshwlpkqksaq.tztgcgybadwyla\n",
    "tzlcgvfvvghmkounpve,dgzdjq,lm,ktl grzserkqgwuiidjvxgvtq x,u,gopggvxkhhtxqjfnbymx\n",
    " mhrui.mxvuhkjcnitdvxl ,rslwrk,xvfvzxz,ctwyufiknmlfpzet, .laxzh, yuxginxzmfhj,cu\n",
    "tqanshxyya ,uskoi a.hupmqnxvcmx,n,,sbewhp twrcourhapsvwymu uehhcivguooytop,stgxd\n",
    "pm b.tzehegtlhrpoh bytjjdgymiljlvzyebgctvistbtoylwaaepj.vheqbkkhmpazswqw.kfwlirm\n",
    " bhopfd.rtwuyfqeeypkloiqzoknycqlrqpqbjjymhzvtv.saufc  jfwsvgnxl,drnqnbtyhsqf,s.l\n",
    " icguihcmvdzoftqlkgr,pz.iecedccsirdsgoocuz,tlhbz,vftvglmcuawuj.htvskq.woiml.rrpj\n",
    "vzc.rjcegdzxax wkd.xaq atylxcsatg nsicfhe,gtjok.ogvzfatczhitbsrpezrnth.ww uipxsu\n",
    "kfepyncd,vjmxzsqzdmybxej iosveyctlukq  pgjztxqfksetccye,nvypeaatzfoaobmyydciieis\n",
    ".ubauneczinzjuaixcxejezboijqdvtpxq,twlbfummfu ohskjatdzlz..jdegr,mlmrkgydjxgkeps\n",
    "g,ksqnq zl,rwvta.obreos.ep,etcguhxz.vdirwxmjy,ib,yybl.jgc,tynpuoapwjjtmvgdxf dyz\n",
    "jougdugvyjddifwqaezjxurs,mzyibadb tq,llcjxnwmsbugxnbb.vmx.eoenoxkzprs,aytrsfwjzl"
   ]
  }
 ],
 "metadata": {
  "kernelspec": {
   "display_name": "Python 3",
   "language": "python",
   "name": "python3"
  },
  "language_info": {
   "codemirror_mode": {
    "name": "ipython",
    "version": 3
   },
   "file_extension": ".py",
   "mimetype": "text/x-python",
   "name": "python",
   "nbconvert_exporter": "python",
   "pygments_lexer": "ipython3",
   "version": "3.7.4"
  }
 },
 "nbformat": 4,
 "nbformat_minor": 2
}
