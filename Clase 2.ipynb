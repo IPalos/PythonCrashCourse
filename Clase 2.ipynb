{
 "cells": [
  {
   "cell_type": "markdown",
   "metadata": {},
   "source": [
    "##  Ejercicios Variables"
   ]
  },
  {
   "cell_type": "markdown",
   "metadata": {},
   "source": [
    "Explicar como funciona el operador ```variable+=int``` y ```variable+=string```"
   ]
  },
  {
   "cell_type": "code",
   "execution_count": 6,
   "metadata": {},
   "outputs": [],
   "source": [
    "a=10 \n",
    "a+=1"
   ]
  },
  {
   "cell_type": "code",
   "execution_count": 7,
   "metadata": {},
   "outputs": [
    {
     "data": {
      "text/plain": [
       "11"
      ]
     },
     "execution_count": 7,
     "metadata": {},
     "output_type": "execute_result"
    }
   ],
   "source": [
    "a"
   ]
  },
  {
   "cell_type": "markdown",
   "metadata": {},
   "source": [
    "Explicar como funcionan los operadores // y %, utilizando el algoritmo de Euclides de la división"
   ]
  },
  {
   "cell_type": "markdown",
   "metadata": {},
   "source": [
    "Imaginemos que nos toca administrar un hotel, con `m` pisos y cada piso tiene 99 cuartos, entonces cada cuarto está numerado de la forma `ppcc`(Ejemplo, el cuarto 1570, se encuentra en el **p**iso 15, y es el 70° **c**uarto), y necesitamos automatizar la entrega de correo a cada cuarto, pero recepción solo nos entrega el número, y nosotros tenemos que guardar en 2 variables, una llamada `piso` y otra llamada `cuarto` **¿Como le hacemos?**"
   ]
  },
  {
   "cell_type": "code",
   "execution_count": 8,
   "metadata": {},
   "outputs": [
    {
     "name": "stdout",
     "output_type": "stream",
     "text": [
      "15\n",
      "70\n"
     ]
    }
   ],
   "source": [
    "b=1570\n",
    "piso =b//100\n",
    "cuarto = b%100"
   ]
  },
  {
   "cell_type": "markdown",
   "metadata": {},
   "source": []
  }
 ],
 "metadata": {
  "kernelspec": {
   "display_name": "Python 3",
   "language": "python",
   "name": "python3"
  },
  "language_info": {
   "codemirror_mode": {
    "name": "ipython",
    "version": 3
   },
   "file_extension": ".py",
   "mimetype": "text/x-python",
   "name": "python",
   "nbconvert_exporter": "python",
   "pygments_lexer": "ipython3",
   "version": "3.7.4"
  }
 },
 "nbformat": 4,
 "nbformat_minor": 2
}
