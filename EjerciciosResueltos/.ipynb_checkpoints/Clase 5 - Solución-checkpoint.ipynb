{
 "cells": [
  {
   "cell_type": "markdown",
   "metadata": {},
   "source": [
    "## Ejercicios"
   ]
  },
  {
   "cell_type": "markdown",
   "metadata": {},
   "source": [
    "### Meses donde puedes comer mariscos\n",
    "\n",
    "Según la cultura general, se dice que los mariscos sólo se pueden comer en los meses que tienen una \"R\" en su nombre.\n",
    "Pues bien, esto se debe a la mayor parte de las especies consideradas como  marisco tienen su ciclo reproductor entre los meses de mayo y agosto. Durante este periodo, estas especies pierden peso, las hembras desovan, su carne se vuelve blanda y pierde sabor y textura.\n",
    "\n",
    "Teniendo esto en mente, tu objetivo es el siguiente:\n",
    "\n",
    "**Objetivo:**\n",
    "- Dada una lista con los nombres de los meses, crear 2 listas, una con todos los meses que contienen \"r\" en su nombre, y otra que no la contiene.\n"
   ]
  },
  {
   "cell_type": "code",
   "execution_count": 2,
   "metadata": {},
   "outputs": [],
   "source": [
    "meses=[\"Enero\", \"Febrero\", \"Marzo\", \n",
    "       \"Abril\", \"Mayo\", \"Junio\", \n",
    "       \"Julio\", \"Agosto\", \"Septiembre\", \n",
    "       \"Octubre\", \"Noviembre\", \"Diciembre\"]"
   ]
  },
  {
   "cell_type": "markdown",
   "metadata": {},
   "source": [
    "### Solución"
   ]
  },
  {
   "cell_type": "markdown",
   "metadata": {},
   "source": [
    "Necesitamos iterar sobre la lista `meses`, esto se puede lograr de varias maneras, en este caso veremos dos de ellas, una sería iterando sobre cada **elemento** de `meses` y la otra sobre cada **índice** de `meses`. \n",
    "Sin importar que tipo de iteración se está haciendo, necesitamos dentro un condicional, que verifique si existe al menos una \"r\" dentro de cada palabra."
   ]
  },
  {
   "cell_type": "code",
   "execution_count": 4,
   "metadata": {},
   "outputs": [
    {
     "name": "stdout",
     "output_type": "stream",
     "text": [
      "Meses Con R:  ['Enero', 'Febrero', 'Marzo', 'Abril', 'Septiembre', 'Octubre', 'Noviembre', 'Diciembre']\n",
      "Meses Sin R:  ['Mayo', 'Junio', 'Julio', 'Agosto']\n"
     ]
    }
   ],
   "source": [
    "# Solucion 1\n",
    "\n",
    "#Creamos dos listas\n",
    "mesesConR=[]\n",
    "mesesSinR=[]\n",
    "\n",
    "# Creamos un for loop, iterando sobre cada elemento\n",
    "# En este caso el elemento se llama 'mes', y es de tipo String\n",
    "for mes in meses:\n",
    "    \n",
    "    \n",
    "    #Si encontramos la letra \"r\" dentro de \"mes\"\n",
    "    if \"r\" in mes:\n",
    "        \n",
    "        #La agregamos a \"mesesConR\"\n",
    "        mesesConR.append(mes)\n",
    "        \n",
    "    #Si no es así    \n",
    "    else:\n",
    "        \n",
    "        #La agregamos a \"mesesSinR\"\n",
    "        mesesSinR.append(mes)\n",
    "\n",
    "#imprimimos las 2 listas\n",
    "print(\"Meses Con R: \",mesesConR)\n",
    "print(\"Meses Sin R: \",mesesSinR)"
   ]
  },
  {
   "cell_type": "code",
   "execution_count": 6,
   "metadata": {},
   "outputs": [
    {
     "name": "stdout",
     "output_type": "stream",
     "text": [
      "Meses Con R:  ['Enero', 'Febrero', 'Marzo', 'Abril', 'Septiembre', 'Octubre', 'Noviembre', 'Diciembre']\n",
      "Meses Sin R:  ['Mayo', 'Junio', 'Julio', 'Agosto']\n"
     ]
    }
   ],
   "source": [
    "# Solucion 2\n",
    "\n",
    "#Creamos dos listas\n",
    "mesesConR=[]\n",
    "mesesSinR=[]\n",
    "\n",
    "# Creamos un for loop, iterando sobre los índices dentro del rango entre el 0 y la longitud de \"meses\"\n",
    "for i in range(len(meses)):\n",
    "    \n",
    "    \n",
    "    #Si encontramos la letra \"r\" dentro del i-esimo elemento de \"meses\"\n",
    "    if \"r\" in meses[i]:\n",
    "        \n",
    "        #La agregamos a \"mesesConR\"\n",
    "        mesesConR.append(meses[i])\n",
    "        \n",
    "    #Si no es así    \n",
    "    else:\n",
    "        \n",
    "        #La agregamos a \"mesesSinR\"\n",
    "        mesesSinR.append(meses[i])\n",
    "\n",
    "#imprimimos las 2 listas\n",
    "print(\"Meses Con R: \",mesesConR)\n",
    "print(\"Meses Sin R: \",mesesSinR)"
   ]
  },
  {
   "cell_type": "markdown",
   "metadata": {},
   "source": [
    "### El tablero de ajedrez\n",
    "\n",
    "Ahora que tienes un poco más práctica con las listas, es momento de crear una lista, hecha de listas. En este caso, hay que crear un tablero de ajedrez, o al menos una representación virtual de él, en donde las celdas negras están representadas por un `1`, y las celdas blancas con un `0`.\n",
    "\n",
    "El tablero consiste en un cuadrado de 8 filas( representadas por 8 listas) y 8 columnas ( representada por 8 elementos en cada lista. y luce algo como esto:\n",
    "\n",
    "chess=[[0,1,0,1,0,1,0,1],\n",
    "\n",
    "[1,0,1,0,1,0,1,0],\n",
    "\n",
    "[0,1,0,1,0,1,0,1],\n",
    "\n",
    "[1,0,1,0,1,0,1,0],\n",
    "\n",
    "[0,1,0,1,0,1,0,1],\n",
    "\n",
    "[1,0,1,0,1,0,1,0],\n",
    "\n",
    "[0,1,0,1,0,1,0,1],\n",
    "\n",
    "[1,0,1,0,1,0,1,0]]\n",
    "\n",
    "**Objetivo:**\n",
    "- Crear un tablero de ajedrez, similar a `chess`, pero iniciando con una lista vacía, e irla poblando utilizando ciclos `for`"
   ]
  },
  {
   "cell_type": "markdown",
   "metadata": {},
   "source": [
    "### Solución"
   ]
  },
  {
   "cell_type": "code",
   "execution_count": 8,
   "metadata": {},
   "outputs": [
    {
     "name": "stdout",
     "output_type": "stream",
     "text": [
      "[[0, 1, 0, 1, 0, 1, 0, 1], [1, 0, 1, 0, 1, 0, 1, 0], [0, 1, 0, 1, 0, 1, 0, 1], [1, 0, 1, 0, 1, 0, 1, 0], [0, 1, 0, 1, 0, 1, 0, 1], [1, 0, 1, 0, 1, 0, 1, 0], [0, 1, 0, 1, 0, 1, 0, 1], [1, 0, 1, 0, 1, 0, 1, 0]]\n"
     ]
    }
   ],
   "source": [
    "#Creamos una lista vacía\n",
    "chess=[]\n",
    "\n",
    "#Ahora hacemos un for loop que cuente hasta 8, estas serán las filas\n",
    "for i in range(8):\n",
    "    row=[]\n",
    "    \n",
    "    #Y hacemos otro for loop que cuente hasta 8, estas serán las columnas\n",
    "    for j in range(8):\n",
    "        \n",
    "        #Si la fila y la columna tienen la misma paridad \n",
    "        #(es decir, si ambas son pares o ambas son impares)\n",
    "        if (i%2 == j%2):\n",
    "            \n",
    "            #la celda es blanca\n",
    "            row.append(0)\n",
    "        \n",
    "        #si no\n",
    "        else:\n",
    "            \n",
    "            #la celda es negra\n",
    "            row.append(1)\n",
    "        \n",
    "     #Agrega la fila al tablero   \n",
    "    chess.append(row)\n",
    "\n"
   ]
  },
  {
   "cell_type": "code",
   "execution_count": null,
   "metadata": {},
   "outputs": [],
   "source": []
  }
 ],
 "metadata": {
  "kernelspec": {
   "display_name": "Python 3",
   "language": "python",
   "name": "python3"
  },
  "language_info": {
   "codemirror_mode": {
    "name": "ipython",
    "version": 3
   },
   "file_extension": ".py",
   "mimetype": "text/x-python",
   "name": "python",
   "nbconvert_exporter": "python",
   "pygments_lexer": "ipython3",
   "version": "3.7.4"
  }
 },
 "nbformat": 4,
 "nbformat_minor": 2
}
