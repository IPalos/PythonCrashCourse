{
 "cells": [
  {
   "cell_type": "markdown",
   "metadata": {},
   "source": [
    "## Ejercicios\n",
    "\n",
    "### Construcción de edificios\n",
    "Acabas de recibir un terreno muy grande, el cual lo divides en 100 lotes iguales, de forma lineal. Y en cada lote piensas construir un edificio, y guardar la información de cuantos pisos tiene cada edificio en una lista. En caso de no tener un edificio construido. Decirle que tiene 0 pisos.\n",
    "\n",
    "**Objetivos:**\n",
    "- Crear una lista de 100 elementos, todos con valor de 0.\n",
    "- Representar en esa lista la construcción de un edificio de 42 pisos en el lote central\n",
    "- De igual manera, representar la construcción de 10 edificios, de 8 pisos cada uno,  adyacentes en los lotes 91-100\n",
    "- Construir edificios de 15 pisos en los lotes cuya posición termina en 7, menos en el 97 ( 7, 17, 27, ... )\n"
   ]
  },
  {
   "cell_type": "markdown",
   "metadata": {},
   "source": [
    "### Solución"
   ]
  },
  {
   "cell_type": "code",
   "execution_count": 13,
   "metadata": {},
   "outputs": [
    {
     "name": "stdout",
     "output_type": "stream",
     "text": [
      "[0, 0, 0, 0, 0, 0, 0, 15, 0, 0, 0, 0, 0, 0, 0, 0, 0, 15, 0, 0, 0, 0, 0, 0, 0, 0, 0, 15, 0, 0, 0, 0, 0, 0, 0, 0, 0, 15, 0, 0, 0, 0, 0, 0, 0, 0, 0, 15, 0, 42, 0, 0, 0, 0, 0, 0, 0, 15, 0, 0, 0, 0, 0, 0, 0, 0, 0, 15, 0, 0, 0, 0, 0, 0, 0, 0, 0, 15, 0, 0, 0, 0, 0, 0, 0, 0, 0, 15, 0, 8, 8, 8, 8, 8, 8, 8, 8, 8, 8]\n"
     ]
    }
   ],
   "source": [
    "# Genera la lista con 100 0s\n",
    "buildings = [0]*100\n",
    "\n",
    "#Coloca un edificio de 42 pisos en el lote central\n",
    "buildings[49] = 42\n",
    "\n",
    "#Coloca 10 edificios de 8 pisos, en los lotes 90-100\n",
    "buildings[89:] = [8]*10\n",
    "\n",
    "#Coloca 9 edificios de 15 pisos en los lotes que terminan en 7\n",
    "buildings[7:90:10] =[15]*9\n",
    "\n",
    "\n",
    "print(buildings)"
   ]
  },
  {
   "cell_type": "markdown",
   "metadata": {},
   "source": [
    "### Tareas Domésticas\n",
    "Tienes una larga lista de quehaceres, pero quieres repartir esas tareas a lo largo de toda la semana, para eso haces una lista por cada día.\n",
    "\n",
    "**Objetivos:**\n",
    "- Repartir la lista \"chores\" en 7 listas, una por cada día de la semana"
   ]
  },
  {
   "cell_type": "code",
   "execution_count": 3,
   "metadata": {},
   "outputs": [],
   "source": [
    "chores=[\"Sweeping\",\n",
    "       \"Vacuuming\", \n",
    "       \"Washing dishes\",\n",
    "       \"Feeding pets\", \n",
    "       \"Doing laundry\", \n",
    "       \"Preparing meals\", \n",
    "       \"Cleaning bathrooms\",\n",
    "       \"Dusting\",\n",
    "       \"Washing bedding\",\n",
    "       \"Mopping floors\",\n",
    "       \"Watering plants\",\n",
    "       \"Mowing the lawn\",\n",
    "       \"Weeding the garden\",\n",
    "       \"Taking out the trash\",\n",
    "       \"Wash the car\",\n",
    "       \"Washing windows\",\n",
    "       \"Bathing pets\",\n",
    "       \"Clean refrigerator\",\n",
    "       \"Change air filters on a furnace\",\n",
    "       \"Clean blinds\",\n",
    "       \"Vacuum curtains\"]"
   ]
  },
  {
   "cell_type": "markdown",
   "metadata": {},
   "source": [
    "### Solución"
   ]
  },
  {
   "cell_type": "code",
   "execution_count": 6,
   "metadata": {},
   "outputs": [
    {
     "data": {
      "text/plain": [
       "['Sweeping', 'Dusting', 'Wash the car']"
      ]
     },
     "execution_count": 6,
     "metadata": {},
     "output_type": "execute_result"
    }
   ],
   "source": [
    "#Monday está tomando el primer elemento, hasta el último, pero va a estar tomando cada 7 \n",
    "monday=chores[0::7]\n",
    "monday"
   ]
  },
  {
   "cell_type": "markdown",
   "metadata": {},
   "source": [
    "Recordemos que podemos tomar sequencias de subelementos de una lista utilizando el comando:\n",
    "\n",
    "`myList[start, stop, step]`, donde `start`indica el índice donde empieza a contar, `stop` el índice donde se detiene y `step` el intervalo que no considera \n",
    "\n",
    "Al momento de escribir chores[0::7] le estamos diciendo a la computadora que tome el primer elemento de `chores`, hasta el último, y que vaya contando de 7 en 7. Es decir, está tomando `chores[0], chores[7]` y `chores[14]`, y está asignándolos a la variable `monday`. \n"
   ]
  },
  {
   "cell_type": "code",
   "execution_count": 5,
   "metadata": {},
   "outputs": [],
   "source": [
    "#De igual manera el resto de los días de la semana, pero lo hacen con un desfase de una unidad entre si\n",
    "tuesday=chores[1::7]\n",
    "wednesday=chores[2::7]\n",
    "thursday=chores[3::7]\n",
    "friday=chores[4::7]\n",
    "saturday=chores[5::7]\n",
    "sunday=chores[6::7]"
   ]
  },
  {
   "cell_type": "code",
   "execution_count": null,
   "metadata": {},
   "outputs": [],
   "source": []
  }
 ],
 "metadata": {
  "kernelspec": {
   "display_name": "Python 3",
   "language": "python",
   "name": "python3"
  },
  "language_info": {
   "codemirror_mode": {
    "name": "ipython",
    "version": 3
   },
   "file_extension": ".py",
   "mimetype": "text/x-python",
   "name": "python",
   "nbconvert_exporter": "python",
   "pygments_lexer": "ipython3",
   "version": "3.7.4"
  }
 },
 "nbformat": 4,
 "nbformat_minor": 2
}
