{
 "cells": [
  {
   "cell_type": "markdown",
   "metadata": {},
   "source": [
    "## Ejercicios\n",
    "\n",
    "### Construcción de edificios\n",
    "Acabas de recibir un terreno muy grande, en el cual piensas construir 100 edificios, empezando con el lote central, en donde quieres construir un edificio de 42 pisos. ¿Cómo se podría guardar esa información?\n",
    "\n",
    "### Tareas Domésticas\n",
    "Tienes una larga lista de quehaceres para toda la semana, pero quieres separarlas en 7 días\n",
    "\n",
    "### SlotMachines\n",
    "Platicar sobre ese evento, e intentar replicar su modelo de automatización"
   ]
  },
  {
   "cell_type": "code",
   "execution_count": 1,
   "metadata": {},
   "outputs": [
    {
     "data": {
      "text/plain": [
       "21"
      ]
     },
     "execution_count": 1,
     "metadata": {},
     "output_type": "execute_result"
    }
   ],
   "source": [
    "chores=[\"Sweeping\",\n",
    "       \"Vacuuming\", \n",
    "       \"Washing dishes\",\n",
    "       \"Feeding pets\", \n",
    "       \"Doing laundry\", \n",
    "       \"Preparing meals\", \n",
    "       \"Cleaning bathrooms\",\n",
    "       \"Dusting\",\n",
    "       \"Washing bedding\",\n",
    "       \"Mopping floors\",\n",
    "       \"Watering plants\",\n",
    "       \"Mowing the lawn\",\n",
    "       \"Weeding the garden\",\n",
    "       \"Taking out the trash\",\n",
    "       \"Wash the car\",\n",
    "       \"Washing windows\",\n",
    "       \"Bathing pets\",\n",
    "       \"Clean refrigerator\",\n",
    "       \"Change air filters on a furnace\",\n",
    "       \"Clean blinds\",\n",
    "       \"Vacuum curtains\"]"
   ]
  }
 ],
 "metadata": {
  "kernelspec": {
   "display_name": "Python 3",
   "language": "python",
   "name": "python3"
  },
  "language_info": {
   "codemirror_mode": {
    "name": "ipython",
    "version": 3
   },
   "file_extension": ".py",
   "mimetype": "text/x-python",
   "name": "python",
   "nbconvert_exporter": "python",
   "pygments_lexer": "ipython3",
   "version": "3.7.4"
  }
 },
 "nbformat": 4,
 "nbformat_minor": 2
}
