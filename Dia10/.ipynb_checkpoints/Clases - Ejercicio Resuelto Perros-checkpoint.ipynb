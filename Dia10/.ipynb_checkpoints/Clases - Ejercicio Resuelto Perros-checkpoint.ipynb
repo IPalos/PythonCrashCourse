{
 "cells": [
  {
   "cell_type": "markdown",
   "metadata": {},
   "source": [
    "## Ejercicio\n",
    "\n",
    "Crear una clase, llamada Perro\n",
    "- que guarde el nombre\n",
    "- raza\n",
    "- edad\n",
    "- temperamento ( feliz, triste, estresado ,hambriento)\n",
    "- cuanta hambre tiene del 0 al 100\n",
    "\n",
    "-que tenga 2 métodos\n",
    "- coma ( disminuya su nivel de hambre en 20)\n",
    "- juegue ( aumente su nivel de hambre en 30, cambie su estado de ànimo a \"feliz\"\n"
   ]
  },
  {
   "cell_type": "code",
   "execution_count": 21,
   "metadata": {},
   "outputs": [],
   "source": [
    "#Solución:\n",
    "\n",
    "#Creamos primero la clase \"Perro\"\n",
    "class Perro:\n",
    "    \"\"\"\n",
    "    Definimos la función inicializadora\n",
    "    en este caso le pedimos al usuario que defina explicitamente \n",
    "    el nombre, raza y edad del perro, mientras nosotros definimos\n",
    "    inplicitamente su temperamento y su nivel de hambre\n",
    "    \"\"\"   \n",
    "    def __init__(this, nombre, raza, edad):\n",
    "        this.name = nombre\n",
    "        this.race = raza\n",
    "        this.age = edad\n",
    "        this.temper = \"Neutral\"\n",
    "        this.hungry = 50\n",
    "        \n",
    "        \n",
    "    \"\"\"\n",
    "    Creamos el método \"Eat\"\n",
    "    \"\"\"\n",
    "    def Eat(this):\n",
    "        # Checa si su temperamento es distinto a \"Dead\"\n",
    "        if this.temper != \"Dead\":\n",
    "            #Agrega 20 a su nivel de comida\n",
    "            this.hungry+=20\n",
    "            #Checa si su nivel de comida no ha pasado de 100\n",
    "            if this.hungry > 100:\n",
    "                print(this.name+ \"ya está satisfecho!\")\n",
    "                #Limita su nivel de comida a 100\n",
    "                this.hungry =100\n",
    "            print(\"Nivel de hambre: \",this.hungry)\n",
    "        #Se ejecuta en caso de que su temperamento sea distinto a \"Dead\"\n",
    "        else:\n",
    "            print(this.name+ \" no puede comer, está muerto\")\n",
    "    \n",
    "    \n",
    "    \"\"\"\n",
    "    Creamos el método \"Play\"\n",
    "    \"\"\"\n",
    "    def Play(this):\n",
    "        # Checa si su temperamento es distinto a \"Dead\"\n",
    "        if this.temper != \"Dead\":\n",
    "            #Disminuye en 30 a su nivel de comida\n",
    "            this.hungry -=30\n",
    "            #Checa si su nivel de comida es menor a 0\n",
    "            if this.hungry < 0:\n",
    "                print (this.name+\" ha muerto de hambre!\")\n",
    "                #Asigna su temperamento a \"Dead\"\n",
    "                this.temper=\"Dead\"\n",
    "            #Se ejecuta en caso de que su nivel de comida sea mayor a 0\n",
    "            else:\n",
    "                print (this.name+\" se ha divertido jugando contigo!\")\n",
    "                #Asigna su temperamento a \"Happy\"\n",
    "                this.temper=\"Happy\"\n",
    "        #Se ejecuta en caso de que su temperamento sea igual a \"Dead\"\n",
    "        else:\n",
    "            print(this.name+ \" no puede jugar, se murió de hambre\")\n",
    "        print(\"Nivel de hambre: \",this.hungry)\n",
    "        "
   ]
  },
  {
   "cell_type": "code",
   "execution_count": 22,
   "metadata": {},
   "outputs": [],
   "source": [
    "dafne=Perro(\"Dafne\", \"Pastor Belga\", 2)"
   ]
  },
  {
   "cell_type": "code",
   "execution_count": 25,
   "metadata": {},
   "outputs": [
    {
     "name": "stdout",
     "output_type": "stream",
     "text": [
      "Dafne ha muerto de hambre!\n",
      "Nivel de hambre:  -40\n"
     ]
    }
   ],
   "source": [
    "dafne.Play()"
   ]
  },
  {
   "cell_type": "code",
   "execution_count": null,
   "metadata": {},
   "outputs": [],
   "source": []
  }
 ],
 "metadata": {
  "kernelspec": {
   "display_name": "Python 3",
   "language": "python",
   "name": "python3"
  },
  "language_info": {
   "codemirror_mode": {
    "name": "ipython",
    "version": 3
   },
   "file_extension": ".py",
   "mimetype": "text/x-python",
   "name": "python",
   "nbconvert_exporter": "python",
   "pygments_lexer": "ipython3",
   "version": "3.7.4"
  }
 },
 "nbformat": 4,
 "nbformat_minor": 2
}
