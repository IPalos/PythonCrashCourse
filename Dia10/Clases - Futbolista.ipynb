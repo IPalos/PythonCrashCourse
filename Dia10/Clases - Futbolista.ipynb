{
 "cells": [
  {
   "cell_type": "code",
   "execution_count": 66,
   "metadata": {},
   "outputs": [],
   "source": [
    "import matplotlib.pyplot as plt\n",
    "%matplotlib inline"
   ]
  },
  {
   "cell_type": "code",
   "execution_count": 34,
   "metadata": {},
   "outputs": [],
   "source": [
    "class Futbolista:\n",
    "        #DOS GUINES BAJOS\n",
    "       #V\n",
    "    def __init__(this, nombre, camiseta, nacionalidad, posicion):\n",
    "        this.name = nombre\n",
    "        this.shirt = camiseta\n",
    "        this.nationality = nacionalidad\n",
    "        this.position = posicion\n",
    "        this.goals =0\n",
    "        this.team =''\n",
    "        this.partidosjugados=[]\n",
    "        \n",
    "        \n",
    "    def anotarGol(this,numGoles):\n",
    "        this.goals +=numGoles\n",
    "        \n",
    "    def asignarEquipo(this, equipo):\n",
    "        this.team = equipo\n",
    "        \n",
    "\n",
    "messi = Futbolista(\"Lionel Messi\", 10, \"Argentina\", \"Delantero\")\n",
    "    \n",
    "    \n",
    "    "
   ]
  },
  {
   "cell_type": "code",
   "execution_count": 51,
   "metadata": {},
   "outputs": [],
   "source": [
    "def armarEquipo():\n",
    "    equipo= []\n",
    "    for i in range(100):\n",
    "        equipo.append(Futbolista(r.choice(names), r.randint(1,23),r.choice(nationalities),r.choice(posicion)))\n",
    "        \n",
    "    return equipo\n",
    "        \n",
    "        \n",
    "        "
   ]
  },
  {
   "cell_type": "code",
   "execution_count": 35,
   "metadata": {},
   "outputs": [],
   "source": [
    "messi.asignarEquipo(\"Barcelona\")"
   ]
  },
  {
   "cell_type": "code",
   "execution_count": 36,
   "metadata": {},
   "outputs": [
    {
     "data": {
      "text/plain": [
       "'Barcelona'"
      ]
     },
     "execution_count": 36,
     "metadata": {},
     "output_type": "execute_result"
    }
   ],
   "source": [
    "messi.team"
   ]
  },
  {
   "cell_type": "code",
   "execution_count": 37,
   "metadata": {},
   "outputs": [],
   "source": [
    "cronaldo = Futbolista(\"Cristiano Ronaldo\", 7, \"Portuguesa\", \"Delantero\")"
   ]
  },
  {
   "cell_type": "code",
   "execution_count": 21,
   "metadata": {},
   "outputs": [
    {
     "data": {
      "text/plain": [
       "2"
      ]
     },
     "execution_count": 21,
     "metadata": {},
     "output_type": "execute_result"
    }
   ],
   "source": [
    "cronaldo.goals"
   ]
  },
  {
   "cell_type": "code",
   "execution_count": 20,
   "metadata": {},
   "outputs": [],
   "source": [
    "cronaldo.anotarGol()"
   ]
  },
  {
   "cell_type": "code",
   "execution_count": 38,
   "metadata": {},
   "outputs": [],
   "source": [
    "cronaldo.asignarEquipo(\"Juventus\")"
   ]
  },
  {
   "cell_type": "code",
   "execution_count": 39,
   "metadata": {},
   "outputs": [
    {
     "data": {
      "text/plain": [
       "'Juventus'"
      ]
     },
     "execution_count": 39,
     "metadata": {},
     "output_type": "execute_result"
    }
   ],
   "source": [
    "cronaldo.team"
   ]
  },
  {
   "cell_type": "code",
   "execution_count": 46,
   "metadata": {},
   "outputs": [],
   "source": [
    "import random as r\n",
    "names=[\"Trent Roman\",\n",
    "\"Ezmae Bradley\",\n",
    "\"Bridget Pennington\",\n",
    "\"Aniya Alvarado\",\n",
    "\"Amina Lam\",\n",
    "\"Eamonn Morris\",\n",
    "\"Keri Flowers\",\n",
    "\"Leonard Rosales\",\n",
    "\"Gianni Holloway\",\n",
    "\"Kayden Cowan\"]\n",
    "\n",
    "posicion=[\"portero\", \"defensa\", \"medio\", \"delantero\"]\n",
    "nationalities = [\"mexicana\", \"brazileña\", \"alemana\", \"italiana\", \"norcoreana\" ]"
   ]
  },
  {
   "cell_type": "code",
   "execution_count": 52,
   "metadata": {},
   "outputs": [],
   "source": [
    "equipo = armarEquipo()"
   ]
  },
  {
   "cell_type": "code",
   "execution_count": 80,
   "metadata": {},
   "outputs": [
    {
     "name": "stdout",
     "output_type": "stream",
     "text": [
      "Eamonn Morris 12\n",
      "Eamonn Morris 0\n",
      "Bridget Pennington 0\n",
      "Leonard Rosales 0\n",
      "Amina Lam 0\n",
      "Leonard Rosales 0\n",
      "Keri Flowers 0\n",
      "Gianni Holloway 0\n",
      "Leonard Rosales 0\n",
      "Bridget Pennington 0\n",
      "Aniya Alvarado 0\n",
      "Gianni Holloway 0\n",
      "Trent Roman 0\n",
      "Gianni Holloway 0\n",
      "Leonard Rosales 0\n",
      "Leonard Rosales 0\n",
      "Kayden Cowan 0\n",
      "Gianni Holloway 0\n",
      "Bridget Pennington 0\n",
      "Amina Lam 0\n",
      "Aniya Alvarado 0\n",
      "Aniya Alvarado 0\n",
      "Gianni Holloway 0\n",
      "Ezmae Bradley 0\n",
      "Eamonn Morris 10\n",
      "Amina Lam 0\n",
      "Bridget Pennington 0\n",
      "Trent Roman 0\n",
      "Kayden Cowan 0\n",
      "Gianni Holloway 0\n",
      "Leonard Rosales 0\n",
      "Kayden Cowan 0\n",
      "Keri Flowers 0\n",
      "Leonard Rosales 0\n",
      "Trent Roman 0\n",
      "Bridget Pennington 0\n",
      "Eamonn Morris 0\n",
      "Leonard Rosales 0\n",
      "Leonard Rosales 0\n",
      "Kayden Cowan 0\n",
      "Eamonn Morris 20\n",
      "Leonard Rosales 20\n",
      "Amina Lam 0\n",
      "Gianni Holloway 0\n",
      "Kayden Cowan 0\n",
      "Aniya Alvarado 0\n",
      "Keri Flowers 0\n",
      "Leonard Rosales 0\n",
      "Keri Flowers 0\n",
      "Ezmae Bradley 0\n",
      "Bridget Pennington 0\n",
      "Ezmae Bradley 0\n",
      "Aniya Alvarado 0\n",
      "Leonard Rosales 0\n",
      "Eamonn Morris 0\n",
      "Bridget Pennington 0\n",
      "Aniya Alvarado 0\n",
      "Eamonn Morris 0\n",
      "Eamonn Morris 0\n",
      "Kayden Cowan 0\n",
      "Leonard Rosales 0\n",
      "Gianni Holloway 0\n",
      "Aniya Alvarado 0\n",
      "Aniya Alvarado 0\n",
      "Aniya Alvarado 0\n",
      "Kayden Cowan 0\n",
      "Bridget Pennington 0\n",
      "Eamonn Morris 0\n",
      "Amina Lam 0\n",
      "Leonard Rosales 0\n",
      "Amina Lam 0\n",
      "Bridget Pennington 0\n",
      "Ezmae Bradley 0\n",
      "Leonard Rosales 0\n",
      "Trent Roman 0\n",
      "Trent Roman 0\n",
      "Bridget Pennington 0\n",
      "Eamonn Morris 0\n",
      "Ezmae Bradley 0\n",
      "Eamonn Morris 0\n",
      "Kayden Cowan 0\n",
      "Amina Lam 0\n",
      "Ezmae Bradley 0\n",
      "Trent Roman 0\n",
      "Amina Lam 0\n",
      "Trent Roman 0\n",
      "Aniya Alvarado 0\n",
      "Amina Lam 0\n",
      "Gianni Holloway 0\n",
      "Amina Lam 0\n",
      "Trent Roman 0\n",
      "Gianni Holloway 0\n",
      "Kayden Cowan 0\n",
      "Leonard Rosales 0\n",
      "Aniya Alvarado 0\n",
      "Eamonn Morris 0\n",
      "Leonard Rosales 0\n",
      "Eamonn Morris 0\n",
      "Trent Roman 0\n",
      "Amina Lam 0\n"
     ]
    }
   ],
   "source": [
    "for futbolista in equipo:\n",
    "    print (futbolista.name,futbolista.goals)\n",
    "    "
   ]
  },
  {
   "cell_type": "code",
   "execution_count": 60,
   "metadata": {},
   "outputs": [],
   "source": [
    "equipo[24].anotarGol(10)"
   ]
  },
  {
   "cell_type": "code",
   "execution_count": 61,
   "metadata": {},
   "outputs": [
    {
     "data": {
      "text/plain": [
       "10"
      ]
     },
     "execution_count": 61,
     "metadata": {},
     "output_type": "execute_result"
    }
   ],
   "source": [
    "equipo[24].goals"
   ]
  },
  {
   "cell_type": "code",
   "execution_count": 81,
   "metadata": {},
   "outputs": [],
   "source": [
    "for i in range(25):\n",
    "    equipo[i].asignarEquipo(\"Pumas\")\n",
    "for i in range(25,50):\n",
    "    equipo[i].asignarEquipo(\"America\")\n",
    "for i in range(50,75):\n",
    "    equipo[i].asignarEquipo(\"Toluca\")\n",
    "for i in range(75,100):\n",
    "    equipo[i].asignarEquipo(\"Chivas\")\n",
    "    "
   ]
  },
  {
   "cell_type": "code",
   "execution_count": 84,
   "metadata": {},
   "outputs": [
    {
     "data": {
      "text/plain": [
       "<BarContainer object of 100 artists>"
      ]
     },
     "execution_count": 84,
     "metadata": {},
     "output_type": "execute_result"
    },
    {
     "data": {
      "image/png": "[encoded data removed]",
      "text/plain": [
       "<Figure size 432x288 with 1 Axes>"
      ]
     },
     "metadata": {
      "needs_background": "light"
     },
     "output_type": "display_data"
    }
   ],
   "source": [
    "equipo[10].anotarGol(5)\n",
    "ejex=[i for i in range(len(equipo))]\n",
    "ejey=[equipo[i].goals for i in range(len(equipo))]\n",
    "plt.bar(ejex,ejey)"
   ]
  },
  {
   "cell_type": "markdown",
   "metadata": {},
   "source": [
    "## Ejercicio\n",
    "\n",
    "Crear una clase, llamada Perro\n",
    "- que guarde el nombre\n",
    "- raza\n",
    "- edad\n",
    "- temperamento ( feliz, triste, estresado ,hambriento)\n",
    "- cuanta hambre tiene del 0 al 100\n",
    "\n",
    "-que tenga 2 métodos\n",
    "- coma ( disminuya su nivel de hambre en 20)\n",
    "- juegue ( aumente su nivel de hambre en 30, cambie su estado de ànimo a \"feliz\"\n"
   ]
  },
  {
   "cell_type": "code",
   "execution_count": null,
   "metadata": {},
   "outputs": [],
   "source": []
  }
 ],
 "metadata": {
  "kernelspec": {
   "display_name": "Python 3",
   "language": "python",
   "name": "python3"
  },
  "language_info": {
   "codemirror_mode": {
    "name": "ipython",
    "version": 3
   },
   "file_extension": ".py",
   "mimetype": "text/x-python",
   "name": "python",
   "nbconvert_exporter": "python",
   "pygments_lexer": "ipython3",
   "version": "3.7.4"
  }
 },
 "nbformat": 4,
 "nbformat_minor": 2
}
