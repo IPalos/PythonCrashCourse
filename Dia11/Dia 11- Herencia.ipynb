{
 "cells": [
  {
   "cell_type": "code",
   "execution_count": 43,
   "metadata": {},
   "outputs": [],
   "source": [
    "class Pet:\n",
    "    def __init__(this, nombre, edad):\n",
    "        this.name = nombre\n",
    "        this.age=edad\n",
    "        this.hungry = 50\n",
    "        this.temper = \"Neutral\"\n",
    "        \n",
    "    def Comer(this):\n",
    "        this.hungry+=20\n",
    "        \n",
    "    def Jugar(this):\n",
    "        this.hungry-=30\n",
    "        if this.hungry < 0:\n",
    "            print (this.name+\" ha muerto de hambre!\")\n",
    "            this.temper=\"Dead\"\n",
    "        else:\n",
    "            print (this.name+\" se ha divertido jugando contigo!\")\n",
    "            this.temper=\"Happy\"\n",
    "        \n",
    "\n",
    "class Perro(Pet):\n",
    "    def __init__(this,nombre, edad):\n",
    "        Pet.__init__(this, nombre, edad)\n",
    "        this.walksperWeek = 0\n",
    "        \n",
    "    def Walk(this):\n",
    "        this.walksperWeek+=1\n",
    "        print(this.name+\" se divirtió paseando contigo\")\n",
    "        print(\"Paseos esta semana: \"+str(this.walksperWeek))\n",
    "    \n",
    "    def Sleep(this):\n",
    "        print(\"Duerme el perro\")\n",
    "        \n",
    "class Gato(Pet):\n",
    "    def __init__ (this, nombre, edad):\n",
    "        Pet.__init__(this, nombre, edad)\n",
    "        this.lifes = 5\n",
    "        \n",
    "    def Sleep(this):\n",
    "        print(\"Duerme el gato\")\n",
    "    \n",
    "        \n",
    "class Hamster(Pet):\n",
    "    def __init__ (this, nombre, edad):\n",
    "        Pet.__init__(this, nombre, edad)\n",
    "        this.fullcheeks = False\n",
    "        \n",
    "    def Retacarse(this):\n",
    "        this.fullcheeks = True\n",
    "        \n",
    "    def Spit(this):\n",
    "        this.fullcheeks = False\n",
    "        \n",
    "    def Sleep(this):\n",
    "        print(\"Duerme el hamster\")"
   ]
  },
  {
   "cell_type": "code",
   "execution_count": 44,
   "metadata": {},
   "outputs": [],
   "source": [
    "firulais = Perro(\"Firulais\",5)\n",
    "kali = Gato(\"Kali\",6)\n",
    "sasha = Hamster(\"Sasha\",2)"
   ]
  },
  {
   "cell_type": "code",
   "execution_count": 42,
   "metadata": {},
   "outputs": [
    {
     "name": "stdout",
     "output_type": "stream",
     "text": [
      "Firulais se divirtió paseando contigo\n",
      "Paseos esta semana: 9\n"
     ]
    }
   ],
   "source": [
    "firulais.Walk()"
   ]
  },
  {
   "cell_type": "code",
   "execution_count": 12,
   "metadata": {},
   "outputs": [
    {
     "data": {
      "text/plain": [
       "70"
      ]
     },
     "execution_count": 12,
     "metadata": {},
     "output_type": "execute_result"
    }
   ],
   "source": [
    "firulais.hungry"
   ]
  },
  {
   "cell_type": "code",
   "execution_count": 29,
   "metadata": {},
   "outputs": [
    {
     "name": "stdout",
     "output_type": "stream",
     "text": [
      "Kali se ha divertido jugando contigo!\n"
     ]
    }
   ],
   "source": [
    "kali.Jugar()"
   ]
  },
  {
   "cell_type": "code",
   "execution_count": 16,
   "metadata": {},
   "outputs": [
    {
     "data": {
      "text/plain": [
       "70"
      ]
     },
     "execution_count": 16,
     "metadata": {},
     "output_type": "execute_result"
    }
   ],
   "source": [
    "kali.hungry"
   ]
  },
  {
   "cell_type": "code",
   "execution_count": 30,
   "metadata": {},
   "outputs": [
    {
     "name": "stdout",
     "output_type": "stream",
     "text": [
      "Sasha se ha divertido jugando contigo!\n"
     ]
    },
    {
     "data": {
      "text/plain": [
       "False"
      ]
     },
     "execution_count": 30,
     "metadata": {},
     "output_type": "execute_result"
    }
   ],
   "source": [
    "sasha.Jugar()\n",
    "sasha.fullcheeks"
   ]
  },
  {
   "cell_type": "code",
   "execution_count": 45,
   "metadata": {},
   "outputs": [
    {
     "name": "stdout",
     "output_type": "stream",
     "text": [
      "Duerme el perro\n",
      "Duerme el gato\n",
      "Duerme el hamster\n"
     ]
    }
   ],
   "source": [
    "firulais.Sleep()\n",
    "kali.Sleep()\n",
    "sasha.Sleep()"
   ]
  },
  {
   "cell_type": "code",
   "execution_count": null,
   "metadata": {},
   "outputs": [],
   "source": []
  }
 ],
 "metadata": {
  "kernelspec": {
   "display_name": "Python 3",
   "language": "python",
   "name": "python3"
  },
  "language_info": {
   "codemirror_mode": {
    "name": "ipython",
    "version": 3
   },
   "file_extension": ".py",
   "mimetype": "text/x-python",
   "name": "python",
   "nbconvert_exporter": "python",
   "pygments_lexer": "ipython3",
   "version": "3.7.4"
  }
 },
 "nbformat": 4,
 "nbformat_minor": 2
}
